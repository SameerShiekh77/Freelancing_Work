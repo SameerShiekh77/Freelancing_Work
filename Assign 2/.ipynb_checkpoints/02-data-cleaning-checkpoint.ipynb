{
 "cells": [
  {
   "cell_type": "markdown",
   "metadata": {},
   "source": [
    "# ISYS2407 Information Systems Solutions & Design\n",
    "\n",
    "# Data Cleaning\n",
    "\n",
    "###### © France and Christopher Cheong 2020"
   ]
  },
  {
   "cell_type": "markdown",
   "metadata": {},
   "source": [
    "## 1 Import libraries"
   ]
  },
  {
   "cell_type": "code",
   "execution_count": 1,
   "metadata": {},
   "outputs": [],
   "source": [
    "# Pandas is the main library used for exploratory data analysis\n",
    "# Pandas is built on top of numpy \n",
    "# Numpy allows fast advanced mathematical operations on large amount of data\n",
    "import numpy as np\n",
    "import pandas as pd\n",
    "\n",
    "# Library forn saving a python object to file\n",
    "import joblib \n",
    "\n",
    "# Libraries for further processing of the data\n",
    "from sklearn.impute import SimpleImputer       # for assigning missing values\n",
    "\n",
    "# Matplotlib is the main plotting library for python\n",
    "# Seaborn is built on top of matplotlib and it's easier to use\n",
    "# pandas also have same basic plotting capabilities which are again built on top of matplotlib\n",
    "import matplotlib.pyplot as plt\n",
    "# The next statement instructs matplotlib to plot the graphs inside the notebook\n",
    "%matplotlib inline \n",
    "import seaborn as sns\n",
    "\n",
    "# Another useful plotting library is plotly - it is used for interactive plots"
   ]
  },
  {
   "cell_type": "markdown",
   "metadata": {},
   "source": [
    "## 2 Load data"
   ]
  },
  {
   "cell_type": "code",
   "execution_count": 2,
   "metadata": {},
   "outputs": [],
   "source": [
    "# Load the data - assuming its stored on your computer\n",
    "#diabetes_df = pd.read_csv(\"diabetes.csv\") # the suffix _df stands for dataframe\n",
    "#diabetes_df = pd.read_csv(\"data/diabetes.csv\") # if the CSV file is in folder data\n",
    "\n",
    "# If you suspect missing values are coded in non-standard ways\n",
    "#missing_values = ['?', '--', ' ', 'NA', 'N/A', '-'] # you can add more in the list\n",
    "#diabetes_df = pd.read_csv(\"diabetes.csv\", na_values=missing_values)\n",
    "\n",
    "# If delimiter is not a comma\n",
    "#diabetes_df = pd.read_csv(\"diabetes.csv\", delimiter=';')"
   ]
  },
  {
   "cell_type": "code",
   "execution_count": 3,
   "metadata": {},
   "outputs": [],
   "source": [
    "# Load the data from the web\n",
    "url = 'https://raw.githubusercontent.com/jbrownlee/Datasets/master/pima-indians-diabetes.csv'\n",
    "col_names = ['num_pregnancies', \n",
    "             'glucose', \n",
    "             'blood_pressure', \n",
    "             'skin_thickness', \n",
    "             'insulin', \n",
    "             'bmi', \n",
    "             'pedigree', \n",
    "             'age', \n",
    "             'outcome']\n",
    "diabetes_df = pd.read_csv(url, header=None, names=col_names)"
   ]
  },
  {
   "cell_type": "code",
   "execution_count": 4,
   "metadata": {
    "scrolled": true
   },
   "outputs": [
    {
     "name": "stdout",
     "output_type": "stream",
     "text": [
      "<class 'pandas.core.frame.DataFrame'>\n"
     ]
    }
   ],
   "source": [
    "# What is the data type?\n",
    "#type(diabetes_orig_df)\n",
    "# or\n",
    "print(type(diabetes_df))"
   ]
  },
  {
   "cell_type": "code",
   "execution_count": 5,
   "metadata": {
    "scrolled": true
   },
   "outputs": [
    {
     "name": "stdout",
     "output_type": "stream",
     "text": [
      "<class 'pandas.core.frame.DataFrame'>\n",
      "RangeIndex: 768 entries, 0 to 767\n",
      "Data columns (total 9 columns):\n",
      "num_pregnancies    768 non-null int64\n",
      "glucose            768 non-null int64\n",
      "blood_pressure     768 non-null int64\n",
      "skin_thickness     768 non-null int64\n",
      "insulin            768 non-null int64\n",
      "bmi                768 non-null float64\n",
      "pedigree           768 non-null float64\n",
      "age                768 non-null int64\n",
      "outcome            768 non-null int64\n",
      "dtypes: float64(2), int64(7)\n",
      "memory usage: 54.1 KB\n"
     ]
    }
   ],
   "source": [
    "diabetes_df.info()"
   ]
  },
  {
   "cell_type": "code",
   "execution_count": 6,
   "metadata": {},
   "outputs": [
    {
     "name": "stdout",
     "output_type": "stream",
     "text": [
      "(768, 9)\n",
      "768\n",
      "9\n"
     ]
    }
   ],
   "source": [
    "# shape will return as tuple containing the number of rows and columns\n",
    "#diabetes_df.shape\n",
    "#diabetes_df.shape[0]\n",
    "#diabetes_df.shape[1]\n",
    "\n",
    "# Note: the result of a line of code is automatically printed below the cell\n",
    "# However, if there are more than one statements, then one of them will print its results\n",
    "# And only the result of the last statement is visible\n",
    "# But if you can override this behaviour by using print statements as shown below\n",
    "print(diabetes_df.shape)\n",
    "print(diabetes_df.shape[0])\n",
    "print(diabetes_df.shape[1])"
   ]
  },
  {
   "cell_type": "code",
   "execution_count": 7,
   "metadata": {},
   "outputs": [
    {
     "data": {
      "text/html": [
       "<div>\n",
       "<style scoped>\n",
       "    .dataframe tbody tr th:only-of-type {\n",
       "        vertical-align: middle;\n",
       "    }\n",
       "\n",
       "    .dataframe tbody tr th {\n",
       "        vertical-align: top;\n",
       "    }\n",
       "\n",
       "    .dataframe thead th {\n",
       "        text-align: right;\n",
       "    }\n",
       "</style>\n",
       "<table border=\"1\" class=\"dataframe\">\n",
       "  <thead>\n",
       "    <tr style=\"text-align: right;\">\n",
       "      <th></th>\n",
       "      <th>num_pregnancies</th>\n",
       "      <th>glucose</th>\n",
       "      <th>blood_pressure</th>\n",
       "      <th>skin_thickness</th>\n",
       "      <th>insulin</th>\n",
       "      <th>bmi</th>\n",
       "      <th>pedigree</th>\n",
       "      <th>age</th>\n",
       "      <th>outcome</th>\n",
       "    </tr>\n",
       "  </thead>\n",
       "  <tbody>\n",
       "    <tr>\n",
       "      <th>0</th>\n",
       "      <td>6</td>\n",
       "      <td>148</td>\n",
       "      <td>72</td>\n",
       "      <td>35</td>\n",
       "      <td>0</td>\n",
       "      <td>33.6</td>\n",
       "      <td>0.627</td>\n",
       "      <td>50</td>\n",
       "      <td>1</td>\n",
       "    </tr>\n",
       "    <tr>\n",
       "      <th>1</th>\n",
       "      <td>1</td>\n",
       "      <td>85</td>\n",
       "      <td>66</td>\n",
       "      <td>29</td>\n",
       "      <td>0</td>\n",
       "      <td>26.6</td>\n",
       "      <td>0.351</td>\n",
       "      <td>31</td>\n",
       "      <td>0</td>\n",
       "    </tr>\n",
       "    <tr>\n",
       "      <th>2</th>\n",
       "      <td>8</td>\n",
       "      <td>183</td>\n",
       "      <td>64</td>\n",
       "      <td>0</td>\n",
       "      <td>0</td>\n",
       "      <td>23.3</td>\n",
       "      <td>0.672</td>\n",
       "      <td>32</td>\n",
       "      <td>1</td>\n",
       "    </tr>\n",
       "    <tr>\n",
       "      <th>3</th>\n",
       "      <td>1</td>\n",
       "      <td>89</td>\n",
       "      <td>66</td>\n",
       "      <td>23</td>\n",
       "      <td>94</td>\n",
       "      <td>28.1</td>\n",
       "      <td>0.167</td>\n",
       "      <td>21</td>\n",
       "      <td>0</td>\n",
       "    </tr>\n",
       "    <tr>\n",
       "      <th>4</th>\n",
       "      <td>0</td>\n",
       "      <td>137</td>\n",
       "      <td>40</td>\n",
       "      <td>35</td>\n",
       "      <td>168</td>\n",
       "      <td>43.1</td>\n",
       "      <td>2.288</td>\n",
       "      <td>33</td>\n",
       "      <td>1</td>\n",
       "    </tr>\n",
       "  </tbody>\n",
       "</table>\n",
       "</div>"
      ],
      "text/plain": [
       "   num_pregnancies  glucose  blood_pressure  skin_thickness  insulin   bmi  \\\n",
       "0                6      148              72              35        0  33.6   \n",
       "1                1       85              66              29        0  26.6   \n",
       "2                8      183              64               0        0  23.3   \n",
       "3                1       89              66              23       94  28.1   \n",
       "4                0      137              40              35      168  43.1   \n",
       "\n",
       "   pedigree  age  outcome  \n",
       "0     0.627   50        1  \n",
       "1     0.351   31        0  \n",
       "2     0.672   32        1  \n",
       "3     0.167   21        0  \n",
       "4     2.288   33        1  "
      ]
     },
     "execution_count": 7,
     "metadata": {},
     "output_type": "execute_result"
    }
   ],
   "source": [
    "# By default, head() will display 5 rows\n",
    "diabetes_df.head()\n",
    "# If you want to see more rows, pass the number as a parameter to the function\n",
    "#diabetes_df.head(10)\n",
    "\n",
    "# Note: You can also use Excel to view the CSV file"
   ]
  },
  {
   "cell_type": "markdown",
   "metadata": {},
   "source": [
    "# 3 Fix data types (if required)"
   ]
  },
  {
   "cell_type": "code",
   "execution_count": 8,
   "metadata": {
    "scrolled": true
   },
   "outputs": [
    {
     "data": {
      "text/plain": [
       "num_pregnancies      int64\n",
       "glucose              int64\n",
       "blood_pressure       int64\n",
       "skin_thickness       int64\n",
       "insulin              int64\n",
       "bmi                float64\n",
       "pedigree           float64\n",
       "age                  int64\n",
       "outcome              int64\n",
       "dtype: object"
      ]
     },
     "execution_count": 8,
     "metadata": {},
     "output_type": "execute_result"
    }
   ],
   "source": [
    "diabetes_df.dtypes"
   ]
  },
  {
   "cell_type": "code",
   "execution_count": 9,
   "metadata": {},
   "outputs": [
    {
     "data": {
      "text/plain": [
       "num_pregnancies      int64\n",
       "glucose              int64\n",
       "blood_pressure       int64\n",
       "skin_thickness       int64\n",
       "insulin              int64\n",
       "bmi                float64\n",
       "pedigree           float64\n",
       "age                  int64\n",
       "outcome              int64\n",
       "dtype: object"
      ]
     },
     "execution_count": 9,
     "metadata": {},
     "output_type": "execute_result"
    }
   ],
   "source": [
    "# SUPPOSE the type bmi was an \"object\" - meaning it's a string\n",
    "# To convert any column that was loaded as a string to float use the astype(float) function\n",
    "# Similarly, there are conversions for other data types\n",
    "# Check documentation at \n",
    "# https://pandas.pydata.org/pandas-docs/stable/reference/api/pandas.DataFrame.astype.html\n",
    "diabetes_df[\"bmi\"] = diabetes_df[\"bmi\"].astype(float)\n",
    "diabetes_df.dtypes\n",
    "\n",
    "# NOTE: If some of the values of column bmi were spaces\n",
    "# Then trying to cast all the values to float will crash\n",
    "# As a space cannot be converted to float\n",
    "# Need to identify the rows with spaces\n",
    "# And decide what to do with these rows\n",
    "# Either delete these rows or replace them with something else (discussed under missing values)\n",
    "\n",
    "# Suppose we dropping the rows with null values\n",
    "# The following shows the code for how to do it\n",
    "# Replace the spaces with null values (NaN) and then use dropna() to drop rows with Nan values\n",
    "#diabetes_df[\"bmi\"].replace(\" \", np.nan, inplace=True) # modify the data in place - will return nothing\n",
    "#diabetes_df.dropna(how='any', inplace=True) # any = drop a row with a Nan value in any column\n",
    "# Check dropna() documentation at \n",
    "# https://pandas.pydata.org/pandas-docs/stable/reference/api/pandas.DataFrame.dropna.html"
   ]
  },
  {
   "cell_type": "markdown",
   "metadata": {},
   "source": [
    "# 4 Delete duplicate rows (if any)"
   ]
  },
  {
   "cell_type": "code",
   "execution_count": 10,
   "metadata": {},
   "outputs": [
    {
     "name": "stdout",
     "output_type": "stream",
     "text": [
      "(768, 9)\n",
      "(768, 9)\n"
     ]
    }
   ],
   "source": [
    "# If you wanted to drop rows with duplicate values\n",
    "print(diabetes_df.shape)\n",
    "\n",
    "# Ref: https://pandas.pydata.org/pandas-docs/stable/reference/api/pandas.DataFrame.drop_duplicates.html\n",
    "diabetes_df.drop_duplicates(inplace=True) # will keep first copy\n",
    "\n",
    "# You may want to reset the index\n",
    "# REf: https://pandas.pydata.org/pandas-docs/stable/reference/api/pandas.DataFrame.drop_duplicates.html\n",
    "diabetes_df.reset_index(drop=True, inplace=True) # reset index to default integer index\n",
    "\n",
    "# Check\n",
    "print(diabetes_df.shape)"
   ]
  },
  {
   "cell_type": "code",
   "execution_count": 11,
   "metadata": {},
   "outputs": [],
   "source": [
    "# DO NOT RUN THIS CODE - IT WILL CRASH AS THERE IS NO \"date\" field\n",
    "# Suppose this data set contained a field called \"date\" \n",
    "# and you want to drop rows with duplicate dates\n",
    "#print(diabetes_df.shape)\n",
    "\n",
    "# If your dates are in string format (object), you need to convert them to datetime\n",
    "#diabetes_df['date']  = diabetes_df.to_datetime(diabetes_df['date'])\n",
    "\n",
    "# Next, sort the data on the date field\n",
    "#diabetes_df.sort_values(\"date\", inplace=True) \n",
    "\n",
    "# Drop the duplicate rows\n",
    "# subset can be a list e.g. subset=['col_a', col_b]\n",
    "#diabetes_df.drop_duplicates(subset=\"date\", inplace=True) # will keep the first copy\n",
    "\n",
    "# You may want to reset the index\n",
    "#diabetes_df.reset_index(drop=True, inplace=True) # reset index to default integer index\n",
    "\n",
    "# Check\n",
    "#print(diabetes_df.shape)"
   ]
  },
  {
   "cell_type": "markdown",
   "metadata": {},
   "source": [
    "# 5 Handle Missing Values"
   ]
  },
  {
   "cell_type": "markdown",
   "metadata": {},
   "source": [
    "## 5.1 Percentage of missing values encoded as NaN"
   ]
  },
  {
   "cell_type": "code",
   "execution_count": 12,
   "metadata": {
    "scrolled": true
   },
   "outputs": [
    {
     "data": {
      "text/plain": [
       "num_pregnancies    0\n",
       "glucose            0\n",
       "blood_pressure     0\n",
       "skin_thickness     0\n",
       "insulin            0\n",
       "bmi                0\n",
       "pedigree           0\n",
       "age                0\n",
       "outcome            0\n",
       "dtype: int64"
      ]
     },
     "execution_count": 12,
     "metadata": {},
     "output_type": "execute_result"
    }
   ],
   "source": [
    "# Count of missing values in the whole dataframe by column\n",
    "#diabetes_df.isnull().count() # does not work - gives the count of non-null values\n",
    "#diabetes_df.isna().sum() # isna() is the same as isnull()\n",
    "\n",
    "diabetes_df.isnull().sum()"
   ]
  },
  {
   "cell_type": "code",
   "execution_count": 13,
   "metadata": {
    "scrolled": true
   },
   "outputs": [
    {
     "name": "stdout",
     "output_type": "stream",
     "text": [
      "num_pregnancies    0.0\n",
      "glucose            0.0\n",
      "blood_pressure     0.0\n",
      "skin_thickness     0.0\n",
      "insulin            0.0\n",
      "bmi                0.0\n",
      "pedigree           0.0\n",
      "age                0.0\n",
      "outcome            0.0\n",
      "dtype: float64\n"
     ]
    }
   ],
   "source": [
    "# Display percentage of missing values (NaN) per column\n",
    "# isna() - returns a dataframe of all boolean values True/False\n",
    "# Each value is tested  whether it's missing or not\n",
    "# Boolean values are treated as numeric 0/1 when doing arithmetic operations\n",
    "# So we can calculate the sum and mean of a column of boolean value\n",
    "# Instead of calculating the sum and dividing by the number of rows, we can use the mean directly\n",
    "\n",
    "percent_missing = round(diabetes_df.isna().mean() * 100, 4)\n",
    "print(percent_missing)"
   ]
  },
  {
   "cell_type": "markdown",
   "metadata": {},
   "source": [
    "## 5.2 What if missing values are not encoded as NaN?"
   ]
  },
  {
   "cell_type": "code",
   "execution_count": 14,
   "metadata": {},
   "outputs": [
    {
     "data": {
      "text/html": [
       "<div>\n",
       "<style scoped>\n",
       "    .dataframe tbody tr th:only-of-type {\n",
       "        vertical-align: middle;\n",
       "    }\n",
       "\n",
       "    .dataframe tbody tr th {\n",
       "        vertical-align: top;\n",
       "    }\n",
       "\n",
       "    .dataframe thead th {\n",
       "        text-align: right;\n",
       "    }\n",
       "</style>\n",
       "<table border=\"1\" class=\"dataframe\">\n",
       "  <thead>\n",
       "    <tr style=\"text-align: right;\">\n",
       "      <th></th>\n",
       "      <th>num_pregnancies</th>\n",
       "      <th>glucose</th>\n",
       "      <th>blood_pressure</th>\n",
       "      <th>skin_thickness</th>\n",
       "      <th>insulin</th>\n",
       "      <th>bmi</th>\n",
       "      <th>pedigree</th>\n",
       "      <th>age</th>\n",
       "      <th>outcome</th>\n",
       "    </tr>\n",
       "  </thead>\n",
       "  <tbody>\n",
       "    <tr>\n",
       "      <th>75</th>\n",
       "      <td>1</td>\n",
       "      <td>0</td>\n",
       "      <td>48</td>\n",
       "      <td>20</td>\n",
       "      <td>0</td>\n",
       "      <td>24.7</td>\n",
       "      <td>0.140</td>\n",
       "      <td>22</td>\n",
       "      <td>0</td>\n",
       "    </tr>\n",
       "    <tr>\n",
       "      <th>182</th>\n",
       "      <td>1</td>\n",
       "      <td>0</td>\n",
       "      <td>74</td>\n",
       "      <td>20</td>\n",
       "      <td>23</td>\n",
       "      <td>27.7</td>\n",
       "      <td>0.299</td>\n",
       "      <td>21</td>\n",
       "      <td>0</td>\n",
       "    </tr>\n",
       "    <tr>\n",
       "      <th>342</th>\n",
       "      <td>1</td>\n",
       "      <td>0</td>\n",
       "      <td>68</td>\n",
       "      <td>35</td>\n",
       "      <td>0</td>\n",
       "      <td>32.0</td>\n",
       "      <td>0.389</td>\n",
       "      <td>22</td>\n",
       "      <td>0</td>\n",
       "    </tr>\n",
       "    <tr>\n",
       "      <th>349</th>\n",
       "      <td>5</td>\n",
       "      <td>0</td>\n",
       "      <td>80</td>\n",
       "      <td>32</td>\n",
       "      <td>0</td>\n",
       "      <td>41.0</td>\n",
       "      <td>0.346</td>\n",
       "      <td>37</td>\n",
       "      <td>1</td>\n",
       "    </tr>\n",
       "    <tr>\n",
       "      <th>502</th>\n",
       "      <td>6</td>\n",
       "      <td>0</td>\n",
       "      <td>68</td>\n",
       "      <td>41</td>\n",
       "      <td>0</td>\n",
       "      <td>39.0</td>\n",
       "      <td>0.727</td>\n",
       "      <td>41</td>\n",
       "      <td>1</td>\n",
       "    </tr>\n",
       "  </tbody>\n",
       "</table>\n",
       "</div>"
      ],
      "text/plain": [
       "     num_pregnancies  glucose  blood_pressure  skin_thickness  insulin   bmi  \\\n",
       "75                 1        0              48              20        0  24.7   \n",
       "182                1        0              74              20       23  27.7   \n",
       "342                1        0              68              35        0  32.0   \n",
       "349                5        0              80              32        0  41.0   \n",
       "502                6        0              68              41        0  39.0   \n",
       "\n",
       "     pedigree  age  outcome  \n",
       "75      0.140   22        0  \n",
       "182     0.299   21        0  \n",
       "342     0.389   22        0  \n",
       "349     0.346   37        1  \n",
       "502     0.727   41        1  "
      ]
     },
     "execution_count": 14,
     "metadata": {},
     "output_type": "execute_result"
    }
   ],
   "source": [
    "# There are lots of zero values in some of the columns\n",
    "diabetes_df[(diabetes_df['glucose'] == 0)]"
   ]
  },
  {
   "cell_type": "code",
   "execution_count": 15,
   "metadata": {},
   "outputs": [],
   "source": [
    "# Other datasets- missing values could be a single space e.g. \" \" one space inside the quotes\n",
    "# This is not the case here\n",
    "# Furthermore, you cannot check for spaces if the datatype of the column is float\n",
    "# If there were spaces in the Glucose column, its datatype would be a string \n",
    "#diabetes_df[(diabetes_df['glucose'] == \" \")]"
   ]
  },
  {
   "cell_type": "code",
   "execution_count": 16,
   "metadata": {},
   "outputs": [
    {
     "name": "stdout",
     "output_type": "stream",
     "text": [
      "['glucose', 'blood_pressure', 'skin_thickness', 'insulin', 'bmi', 'pedigree', 'age']\n",
      "num_pregnancies     0.0000\n",
      "glucose             0.6510\n",
      "blood_pressure      4.5573\n",
      "skin_thickness     29.5573\n",
      "insulin            48.6979\n",
      "bmi                 1.4323\n",
      "pedigree            0.0000\n",
      "age                 0.0000\n",
      "outcome             0.0000\n",
      "dtype: float64\n"
     ]
    }
   ],
   "source": [
    "# Replace 0s in all columns except Pregnancies and Outcome\n",
    "\n",
    "# Write code to get the column names\n",
    "#columns = diabetes_df.columns.to_list()\n",
    "#columns.remove('num_pregnancies')\n",
    "#columns.remove('outcome')\n",
    "# Or just specify the names of the columns\n",
    "columns = ['glucose', 'blood_pressure', 'skin_thickness', 'insulin', 'bmi', 'pedigree', 'age']\n",
    "print(columns)\n",
    "for col in columns:\n",
    "    #print(col)\n",
    "    # Can replace one or more things at a time\n",
    "    diabetes_df[col].replace(0, np.nan, inplace=True) # replace a 0 with NaN\n",
    "    #diabetes_df[col].replace(\" \", np.nan, inplace=True) # if some missing values were a space\n",
    "\n",
    "# Check - the percentages of missing values should show up in each column   \n",
    "print(round(diabetes_df.isna().mean() * 100, 4))"
   ]
  },
  {
   "cell_type": "markdown",
   "metadata": {},
   "source": [
    "## 5.3 If you wanted to drop all rows with missing values (NaN)"
   ]
  },
  {
   "cell_type": "code",
   "execution_count": 17,
   "metadata": {},
   "outputs": [],
   "source": [
    "# If you are dropping NaN or NA values, you can simply use the dropna() function\n",
    "\n",
    "# Ref: https://pandas.pydata.org/pandas-docs/stable/reference/api/pandas.DataFrame.dropna.html\n",
    "# Examples: https://www.w3resource.com/pandas/dataframe/dataframe-dropna.php\n",
    "\n",
    "# There are several ways to use the dropna() function\n",
    "\n",
    "# Alternative 1. Drop the rows where at least one element is missing\n",
    "#diabetes_df.dropna(inplace=True)\n",
    "\n",
    "# Alternative 2. Drop the rows where all elements are missing.\n",
    "#diabetes_df.dropna(how='all', inplace=True)\n",
    "\n",
    "# Alternative 3. Keep only the rows with at least 2 non-NA values\n",
    "#diabetes_df.dropna(thresh=2, inplace=True)\n",
    "\n",
    "# Alternative 4. Define in which columns to look for missing values\n",
    "# You can check in one or more columns\n",
    "# This is just an example to demonstrate\n",
    "#diabetes_df.dropna(subset=['glucose', 'blood_pressure']) \n",
    "\n",
    "# Please note that the above commands will only work \n",
    "# if the missing values are NaN (not a number) or NA (not available)\n",
    "# They will not work if the missing values are 0s.\n",
    "\n",
    "# Check - there should be zero percent missing values in all columns\n",
    "#print(round(diabetes_df.isna().mean() * 100, 4))\n",
    "\n",
    "# It'a a good idea to check the number of rows and columns left after dropping rows\n",
    "#print(diabetes_df.shape)"
   ]
  },
  {
   "cell_type": "markdown",
   "metadata": {},
   "source": [
    "## 5.4 If you wanted to replace all missing values (NaN) with median values"
   ]
  },
  {
   "cell_type": "code",
   "execution_count": 18,
   "metadata": {},
   "outputs": [
    {
     "name": "stdout",
     "output_type": "stream",
     "text": [
      "glucose\n",
      "blood_pressure\n",
      "skin_thickness\n",
      "insulin\n",
      "bmi\n",
      "pedigree\n",
      "age\n",
      "num_pregnancies    0.0\n",
      "glucose            0.0\n",
      "blood_pressure     0.0\n",
      "skin_thickness     0.0\n",
      "insulin            0.0\n",
      "bmi                0.0\n",
      "pedigree           0.0\n",
      "age                0.0\n",
      "outcome            0.0\n",
      "dtype: float64\n"
     ]
    }
   ],
   "source": [
    "# Replace NaN with median value in all columns\n",
    "columns = ['glucose', 'blood_pressure', 'skin_thickness', 'insulin', 'bmi', 'pedigree', 'age']\n",
    "\n",
    "# If you want to use SKlearn's SimpleInputer\n",
    "imp_median = SimpleImputer(missing_values=np.nan, strategy='median')\n",
    "\n",
    "for col in columns:\n",
    "    print(col)\n",
    "    # Using SimpleImputer to replace all missing values in column with median value\n",
    "    diabetes_df[col] = imp_median.fit_transform(diabetes_df[col].values.reshape(-1, 1))\n",
    "    # You can also use pandas to do the replacement (also called imputation)\n",
    "    diabetes_df[col].fillna(diabetes_df[col].median(), inplace=True)\n",
    "\n",
    "# Check - there should be zero percent missing values in all columns\n",
    "print(round(diabetes_df.isna().mean() * 100, 4))"
   ]
  },
  {
   "cell_type": "markdown",
   "metadata": {},
   "source": [
    "# 6 Handle outliers"
   ]
  },
  {
   "cell_type": "markdown",
   "metadata": {},
   "source": [
    "## 6.1 Visualise outliers"
   ]
  },
  {
   "cell_type": "code",
   "execution_count": 19,
   "metadata": {
    "scrolled": false
   },
   "outputs": [
    {
     "data": {
      "text/plain": [
       "<matplotlib.axes._subplots.AxesSubplot at 0x119a0278>"
      ]
     },
     "execution_count": 19,
     "metadata": {},
     "output_type": "execute_result"
    },
    {
     "data": {
      "image/png": "[encoded data removed]",
      "text/plain": [
       "<Figure size 432x288 with 1 Axes>"
      ]
     },
     "metadata": {
      "needs_background": "light"
     },
     "output_type": "display_data"
    }
   ],
   "source": [
    "# Example 1 - age \n",
    "# Ref: https://seaborn.pydata.org/generated/seaborn.boxplot.html\n",
    "\n",
    "sns.boxplot(x=diabetes_df[\"age\"]) # if used y=x=diabetes_df[\"age\"] - plot displayed vertically"
   ]
  },
  {
   "cell_type": "code",
   "execution_count": 20,
   "metadata": {
    "scrolled": true
   },
   "outputs": [
    {
     "data": {
      "text/plain": [
       "<matplotlib.axes._subplots.AxesSubplot at 0x11cfa908>"
      ]
     },
     "execution_count": 20,
     "metadata": {},
     "output_type": "execute_result"
    },
    {
     "data": {
      "image/png": "[encoded data removed]",
      "text/plain": [
       "<Figure size 432x288 with 1 Axes>"
      ]
     },
     "metadata": {
      "needs_background": "light"
     },
     "output_type": "display_data"
    }
   ],
   "source": [
    "# Example 2 - number of pregnancies\n",
    "sns.boxplot(x=diabetes_df[\"num_pregnancies\"])"
   ]
  },
  {
   "cell_type": "code",
   "execution_count": 21,
   "metadata": {},
   "outputs": [
    {
     "data": {
      "image/png": "[encoded data removed]",
      "text/plain": [
       "<Figure size 1152x432 with 8 Axes>"
      ]
     },
     "metadata": {
      "needs_background": "light"
     },
     "output_type": "display_data"
    }
   ],
   "source": [
    "# Example 3 - subplots\n",
    "\n",
    "fig, ax = plt.subplots(2,4, figsize=(16,6))  # 2 rows and 4 columns\n",
    "\n",
    "# Row 0\n",
    "ax1 = sns.boxplot(y=diabetes_df[\"num_pregnancies\"], ax=ax[0,0]) # row 0, col 0\n",
    "ax2 = sns.boxplot(y=diabetes_df[\"glucose\"], ax=ax[0,1]) \n",
    "ax3 = sns.boxplot(y=diabetes_df[\"blood_pressure\"], ax=ax[0,2])\n",
    "ax4 = sns.boxplot(y=diabetes_df[\"skin_thickness\"], ax=ax[0,3])\n",
    "\n",
    "# Row 1\n",
    "ax5 = sns.boxplot(y=diabetes_df[\"insulin\"], ax=ax[1,0])\n",
    "ax6 = sns.boxplot(y=diabetes_df[\"bmi\"], ax=ax[1,1])\n",
    "ax7 = sns.boxplot(y=diabetes_df[\"pedigree\"], ax=ax[1,2])\n",
    "ax8 = sns.boxplot(y=diabetes_df[\"age\"], ax=ax[1,3])"
   ]
  },
  {
   "cell_type": "markdown",
   "metadata": {},
   "source": [
    "## 6.2 Percentage of outliers"
   ]
  },
  {
   "cell_type": "code",
   "execution_count": 22,
   "metadata": {
    "scrolled": false
   },
   "outputs": [
    {
     "name": "stdout",
     "output_type": "stream",
     "text": [
      "['num_pregnancies', 'glucose', 'blood_pressure', 'skin_thickness', 'insulin', 'bmi', 'pedigree', 'age']\n",
      "\n",
      "col: num_pregnancies, lower: -6.5, upper: 13.5\n",
      "Num outliers: 4, total rows: 768, percent: 0.52\n",
      "\n",
      "col: glucose, lower: 39.0, upper: 201.0\n",
      "Num outliers: 0, total rows: 768, percent: 0.0\n",
      "\n",
      "col: blood_pressure, lower: 40.0, upper: 104.0\n",
      "Num outliers: 14, total rows: 768, percent: 1.82\n",
      "\n",
      "col: skin_thickness, lower: 14.5, upper: 42.5\n",
      "Num outliers: 87, total rows: 768, percent: 11.33\n",
      "\n",
      "col: insulin, lower: 112.875, upper: 135.875\n",
      "Num outliers: 346, total rows: 768, percent: 45.05\n",
      "\n",
      "col: bmi, lower: 13.849999999999998, upper: 50.25\n",
      "Num outliers: 8, total rows: 768, percent: 1.04\n",
      "\n",
      "col: pedigree, lower: -0.32999999999999996, upper: 1.2\n",
      "Num outliers: 29, total rows: 768, percent: 3.78\n",
      "\n",
      "col: age, lower: -1.5, upper: 66.5\n",
      "Num outliers: 9, total rows: 768, percent: 1.17\n",
      "\n"
     ]
    }
   ],
   "source": [
    "# Finding the percentages of outlier per columns\n",
    "# Note: Outliers only apply to continuous numerical values - not to strings or numerical categories!\n",
    "# So, be careful what you include in the list of column names\n",
    "\n",
    "# Add Pregnancies to the list\n",
    "columns = ['num_pregnancies', 'glucose', 'blood_pressure', \n",
    "           'skin_thickness', 'insulin', 'bmi', 'pedigree', 'age']\n",
    "print(columns)\n",
    "print()\n",
    "\n",
    "for col in columns:\n",
    "    percentile_25 = diabetes_df[col].quantile(0.25)\n",
    "    percentile_75 = diabetes_df[col].quantile(0.75)\n",
    "    iqr = percentile_75 - percentile_25 # Inter Quartile Range\n",
    "    total = len(diabetes_df[col])\n",
    "    #total = diabetes_df[col].shape[0] # also works\n",
    "\n",
    "    # Determine the upper and lower boundaries for outliers\n",
    "    # The lower and upper boundaries are less than the bottom whisker or greater than the top whisker\n",
    "    #cut_off = iqr * 3    # three times IQR - for detecting extreme outliers\n",
    "    cut_off = iqr * 1.5  # normally use 1.5 times IQR\n",
    "    lower, upper = percentile_25 - cut_off, percentile_75 + cut_off\n",
    "    print(f\"col: {col}, lower: {lower}, upper: {upper}\")\n",
    "\n",
    "    # Count all values that are less than the lower boundary OR those that are greater than the upper boundary\n",
    "    #num_outliers = diabetes_df[(diabetes_df[col] < lower) | (diabetes_df[col] > upper)].count() # returns a list of things\n",
    "    num_outliers = len(diabetes_df[(diabetes_df[col] < lower) | (diabetes_df[col] > upper)])\n",
    "    \n",
    "    pc_outliers = round(num_outliers*100/total,2)\n",
    "    \n",
    "    print(f\"Num outliers: {num_outliers}, total rows: {total}, percent: {pc_outliers}\")\n",
    "    print()"
   ]
  },
  {
   "cell_type": "markdown",
   "metadata": {},
   "source": [
    "## 6.3 Replace outliers with median"
   ]
  },
  {
   "cell_type": "code",
   "execution_count": 23,
   "metadata": {
    "scrolled": false
   },
   "outputs": [
    {
     "name": "stdout",
     "output_type": "stream",
     "text": [
      "col: num_pregnancies, lower: -6.5, upper: 13.5,  median_val: 3.0\n",
      "col: glucose, lower: 39.0, upper: 201.0,  median_val: 117.0\n",
      "col: blood_pressure, lower: 40.0, upper: 104.0,  median_val: 72.0\n",
      "col: skin_thickness, lower: 14.5, upper: 42.5,  median_val: 29.0\n",
      "col: insulin, lower: 112.875, upper: 135.875,  median_val: 125.0\n",
      "col: bmi, lower: 13.849999999999998, upper: 50.25,  median_val: 32.3\n",
      "col: pedigree, lower: -0.32999999999999996, upper: 1.2,  median_val: 0.3725\n",
      "col: age, lower: -1.5, upper: 66.5,  median_val: 29.0\n"
     ]
    },
    {
     "data": {
      "text/html": [
       "<div>\n",
       "<style scoped>\n",
       "    .dataframe tbody tr th:only-of-type {\n",
       "        vertical-align: middle;\n",
       "    }\n",
       "\n",
       "    .dataframe tbody tr th {\n",
       "        vertical-align: top;\n",
       "    }\n",
       "\n",
       "    .dataframe thead th {\n",
       "        text-align: right;\n",
       "    }\n",
       "</style>\n",
       "<table border=\"1\" class=\"dataframe\">\n",
       "  <thead>\n",
       "    <tr style=\"text-align: right;\">\n",
       "      <th></th>\n",
       "      <th>count</th>\n",
       "      <th>mean</th>\n",
       "      <th>std</th>\n",
       "      <th>min</th>\n",
       "      <th>25%</th>\n",
       "      <th>50%</th>\n",
       "      <th>75%</th>\n",
       "      <th>max</th>\n",
       "    </tr>\n",
       "  </thead>\n",
       "  <tbody>\n",
       "    <tr>\n",
       "      <th>num_pregnancies</th>\n",
       "      <td>768.0</td>\n",
       "      <td>3.782552</td>\n",
       "      <td>3.270644</td>\n",
       "      <td>0.000</td>\n",
       "      <td>1.00000</td>\n",
       "      <td>3.00000</td>\n",
       "      <td>6.00000</td>\n",
       "      <td>13.000</td>\n",
       "    </tr>\n",
       "    <tr>\n",
       "      <th>glucose</th>\n",
       "      <td>768.0</td>\n",
       "      <td>121.656250</td>\n",
       "      <td>30.438286</td>\n",
       "      <td>44.000</td>\n",
       "      <td>99.75000</td>\n",
       "      <td>117.00000</td>\n",
       "      <td>140.25000</td>\n",
       "      <td>199.000</td>\n",
       "    </tr>\n",
       "    <tr>\n",
       "      <th>blood_pressure</th>\n",
       "      <td>768.0</td>\n",
       "      <td>72.108073</td>\n",
       "      <td>10.874178</td>\n",
       "      <td>40.000</td>\n",
       "      <td>64.00000</td>\n",
       "      <td>72.00000</td>\n",
       "      <td>80.00000</td>\n",
       "      <td>104.000</td>\n",
       "    </tr>\n",
       "    <tr>\n",
       "      <th>skin_thickness</th>\n",
       "      <td>768.0</td>\n",
       "      <td>28.759115</td>\n",
       "      <td>5.766472</td>\n",
       "      <td>15.000</td>\n",
       "      <td>27.00000</td>\n",
       "      <td>29.00000</td>\n",
       "      <td>30.00000</td>\n",
       "      <td>42.000</td>\n",
       "    </tr>\n",
       "    <tr>\n",
       "      <th>insulin</th>\n",
       "      <td>768.0</td>\n",
       "      <td>124.972656</td>\n",
       "      <td>1.698387</td>\n",
       "      <td>114.000</td>\n",
       "      <td>125.00000</td>\n",
       "      <td>125.00000</td>\n",
       "      <td>125.00000</td>\n",
       "      <td>135.000</td>\n",
       "    </tr>\n",
       "    <tr>\n",
       "      <th>bmi</th>\n",
       "      <td>768.0</td>\n",
       "      <td>32.206380</td>\n",
       "      <td>6.410497</td>\n",
       "      <td>18.200</td>\n",
       "      <td>27.50000</td>\n",
       "      <td>32.30000</td>\n",
       "      <td>36.30000</td>\n",
       "      <td>50.000</td>\n",
       "    </tr>\n",
       "    <tr>\n",
       "      <th>pedigree</th>\n",
       "      <td>768.0</td>\n",
       "      <td>0.427667</td>\n",
       "      <td>0.245162</td>\n",
       "      <td>0.078</td>\n",
       "      <td>0.24375</td>\n",
       "      <td>0.37175</td>\n",
       "      <td>0.58225</td>\n",
       "      <td>1.191</td>\n",
       "    </tr>\n",
       "    <tr>\n",
       "      <th>age</th>\n",
       "      <td>768.0</td>\n",
       "      <td>32.760417</td>\n",
       "      <td>11.055385</td>\n",
       "      <td>21.000</td>\n",
       "      <td>24.00000</td>\n",
       "      <td>29.00000</td>\n",
       "      <td>40.00000</td>\n",
       "      <td>66.000</td>\n",
       "    </tr>\n",
       "    <tr>\n",
       "      <th>outcome</th>\n",
       "      <td>768.0</td>\n",
       "      <td>0.348958</td>\n",
       "      <td>0.476951</td>\n",
       "      <td>0.000</td>\n",
       "      <td>0.00000</td>\n",
       "      <td>0.00000</td>\n",
       "      <td>1.00000</td>\n",
       "      <td>1.000</td>\n",
       "    </tr>\n",
       "  </tbody>\n",
       "</table>\n",
       "</div>"
      ],
      "text/plain": [
       "                 count        mean        std      min        25%        50%  \\\n",
       "num_pregnancies  768.0    3.782552   3.270644    0.000    1.00000    3.00000   \n",
       "glucose          768.0  121.656250  30.438286   44.000   99.75000  117.00000   \n",
       "blood_pressure   768.0   72.108073  10.874178   40.000   64.00000   72.00000   \n",
       "skin_thickness   768.0   28.759115   5.766472   15.000   27.00000   29.00000   \n",
       "insulin          768.0  124.972656   1.698387  114.000  125.00000  125.00000   \n",
       "bmi              768.0   32.206380   6.410497   18.200   27.50000   32.30000   \n",
       "pedigree         768.0    0.427667   0.245162    0.078    0.24375    0.37175   \n",
       "age              768.0   32.760417  11.055385   21.000   24.00000   29.00000   \n",
       "outcome          768.0    0.348958   0.476951    0.000    0.00000    0.00000   \n",
       "\n",
       "                       75%      max  \n",
       "num_pregnancies    6.00000   13.000  \n",
       "glucose          140.25000  199.000  \n",
       "blood_pressure    80.00000  104.000  \n",
       "skin_thickness    30.00000   42.000  \n",
       "insulin          125.00000  135.000  \n",
       "bmi               36.30000   50.000  \n",
       "pedigree           0.58225    1.191  \n",
       "age               40.00000   66.000  \n",
       "outcome            1.00000    1.000  "
      ]
     },
     "execution_count": 23,
     "metadata": {},
     "output_type": "execute_result"
    }
   ],
   "source": [
    "# Using Inter Quartile Range (IQR) to detect outliers - for non-normal (non-Gaussian) distributions\n",
    "\n",
    "# Add Pregnancies to the list\n",
    "columns = ['num_pregnancies', 'glucose', 'blood_pressure', \n",
    "           'skin_thickness', 'insulin', 'bmi', 'pedigree', 'age']\n",
    "\n",
    "for col in columns:\n",
    "    median_val = diabetes_df[col].quantile(0.50)\n",
    "    percentile_25 = diabetes_df[col].quantile(0.25)\n",
    "    percentile_75 = diabetes_df[col].quantile(0.75)\n",
    "    iqr = percentile_75 - percentile_25 # Inter Quartile Range\n",
    "    \n",
    "    # Determine the upper and lower boundaries for outliers\n",
    "    # The lower and upper boundaries are less than the bottom whisker or greater than the top whisker\n",
    "    #cut_off = iqr * 3    # three times IQR - for detecting extreme outliers\n",
    "    cut_off = iqr * 1.5  # normally use 1.5 times IQR\n",
    "    lower, upper = percentile_25 - cut_off, percentile_75 + cut_off\n",
    "    print(f\"col: {col}, lower: {lower}, upper: {upper},  median_val: {median_val}\")\n",
    "    \n",
    "    # Replace all outliers in column with median value\n",
    "    # Replace all values that are less than the lower boundary OR those that are greater than the upper boundary\n",
    "    diabetes_df[col] = np.where((diabetes_df[col] < lower) | (diabetes_df[col] > upper), median_val, diabetes_df[col])\n",
    " \n",
    "#diabetes_df.describe()\n",
    "diabetes_df.describe().T  # T means transpose - will transpose rows to column"
   ]
  },
  {
   "cell_type": "markdown",
   "metadata": {},
   "source": [
    "# 7 Row manipulation"
   ]
  },
  {
   "cell_type": "markdown",
   "metadata": {},
   "source": [
    "## 7.1 Drop rows with certain values"
   ]
  },
  {
   "cell_type": "code",
   "execution_count": 24,
   "metadata": {},
   "outputs": [
    {
     "data": {
      "text/html": [
       "<div>\n",
       "<style scoped>\n",
       "    .dataframe tbody tr th:only-of-type {\n",
       "        vertical-align: middle;\n",
       "    }\n",
       "\n",
       "    .dataframe tbody tr th {\n",
       "        vertical-align: top;\n",
       "    }\n",
       "\n",
       "    .dataframe thead th {\n",
       "        text-align: right;\n",
       "    }\n",
       "</style>\n",
       "<table border=\"1\" class=\"dataframe\">\n",
       "  <thead>\n",
       "    <tr style=\"text-align: right;\">\n",
       "      <th></th>\n",
       "      <th>num_pregnancies</th>\n",
       "      <th>glucose</th>\n",
       "      <th>blood_pressure</th>\n",
       "      <th>skin_thickness</th>\n",
       "      <th>insulin</th>\n",
       "      <th>bmi</th>\n",
       "      <th>pedigree</th>\n",
       "      <th>age</th>\n",
       "      <th>outcome</th>\n",
       "    </tr>\n",
       "  </thead>\n",
       "  <tbody>\n",
       "  </tbody>\n",
       "</table>\n",
       "</div>"
      ],
      "text/plain": [
       "Empty DataFrame\n",
       "Columns: [num_pregnancies, glucose, blood_pressure, skin_thickness, insulin, bmi, pedigree, age, outcome]\n",
       "Index: []"
      ]
     },
     "execution_count": 24,
     "metadata": {},
     "output_type": "execute_result"
    }
   ],
   "source": [
    "# Drop rows where blood_pressure is greater than 120 - considering it as an outlier\n",
    "# Ref: https://pandas.pydata.org/pandas-docs/stable/reference/api/pandas.DataFrame.drop.html\n",
    "\n",
    "# Specify the condition\n",
    "condition = diabetes_df['blood_pressure'] > 120\n",
    "# If you wanted to check if there are rows with null values in this column, then your condition would be:\n",
    "#condition = diabetes_df['blood_pressure'] = \" \" # Note that there is a single space between the quotes\n",
    "# You can also specify more complex conditions e.g.\n",
    "#condition = diabetes_df['blood_pressure'] > 120 and diabetes_df['bmi'] == 0 # note two equal signs to test for equality\n",
    "#condition = diabetes_df['blood_pressure'] > 120 and diabetes_df['bmi'] != 0 # != means not equal\n",
    "\n",
    "# Display the rows\n",
    "diabetes_df[condition] \n",
    "\n",
    "# The above statement will filter the rows according to the condition specified and the output atomatrically displayed\n",
    "# However, for the output to be automatically display, the statement should be the last one in the cell\n",
    "# If you want to execute some other statements, place them in the next cell"
   ]
  },
  {
   "cell_type": "code",
   "execution_count": 25,
   "metadata": {},
   "outputs": [
    {
     "data": {
      "text/html": [
       "<div>\n",
       "<style scoped>\n",
       "    .dataframe tbody tr th:only-of-type {\n",
       "        vertical-align: middle;\n",
       "    }\n",
       "\n",
       "    .dataframe tbody tr th {\n",
       "        vertical-align: top;\n",
       "    }\n",
       "\n",
       "    .dataframe thead th {\n",
       "        text-align: right;\n",
       "    }\n",
       "</style>\n",
       "<table border=\"1\" class=\"dataframe\">\n",
       "  <thead>\n",
       "    <tr style=\"text-align: right;\">\n",
       "      <th></th>\n",
       "      <th>num_pregnancies</th>\n",
       "      <th>glucose</th>\n",
       "      <th>blood_pressure</th>\n",
       "      <th>skin_thickness</th>\n",
       "      <th>insulin</th>\n",
       "      <th>bmi</th>\n",
       "      <th>pedigree</th>\n",
       "      <th>age</th>\n",
       "      <th>outcome</th>\n",
       "    </tr>\n",
       "  </thead>\n",
       "  <tbody>\n",
       "  </tbody>\n",
       "</table>\n",
       "</div>"
      ],
      "text/plain": [
       "Empty DataFrame\n",
       "Columns: [num_pregnancies, glucose, blood_pressure, skin_thickness, insulin, bmi, pedigree, age, outcome]\n",
       "Index: []"
      ]
     },
     "execution_count": 25,
     "metadata": {},
     "output_type": "execute_result"
    }
   ],
   "source": [
    "# Then drop the rows according to the previously defined condition (if you decide to)\n",
    "diabetes_df.drop(diabetes_df[condition].index, axis=0, inplace=True) # axis=0 drop rows, 1 is for columns\n",
    "\n",
    "# Check\n",
    "condition = diabetes_df['blood_pressure'] > 110 # set this lower than 120 so you can see some rows\n",
    "diabetes_df[condition] # the output from this statement will display as it's the last statement"
   ]
  },
  {
   "cell_type": "markdown",
   "metadata": {},
   "source": [
    "# 8 Column manipulation"
   ]
  },
  {
   "cell_type": "markdown",
   "metadata": {},
   "source": [
    "## 8.1 Rename columns"
   ]
  },
  {
   "cell_type": "code",
   "execution_count": 26,
   "metadata": {},
   "outputs": [],
   "source": [
    "# SUPPOSE you wanted to change the names of one or more columns \n",
    "# This is just sample code to illustrate how to do it\n",
    "# The code is commented out to prevent it from running (executing)\n",
    "\n",
    "# Define a dictionary mapping current column names to new names\n",
    "# Can change the name of one or more columns\n",
    "#new_column_names = {\n",
    "#    'bmi': 'BMI', \n",
    "#    'pedigree': 'diabetes_pedigree_function', \n",
    "#}\n",
    "\n",
    "# Rename\n",
    "#diabetes_df = diabetes_df.rename(columns=new_column_names)\n",
    "\n",
    "# Check\n",
    "#diabetes_df.head()"
   ]
  },
  {
   "cell_type": "markdown",
   "metadata": {},
   "source": [
    "## 8.2 Add a column"
   ]
  },
  {
   "cell_type": "markdown",
   "metadata": {
    "scrolled": true
   },
   "source": [
    "#### An example was provided when we did the exploratory data analysis.\n",
    "\n",
    "##### More particularly when we processed the blood_pressure column to generate a new column named blood_pressure category.\n"
   ]
  },
  {
   "cell_type": "markdown",
   "metadata": {},
   "source": [
    "## 8.3 Drop columns"
   ]
  },
  {
   "cell_type": "code",
   "execution_count": 27,
   "metadata": {},
   "outputs": [],
   "source": [
    "# ANOTHER ILLUSTRATION\n",
    "# Suppose you want to drop the column \"blood_pressure\"\n",
    "# Again, this is just sample code to illustrate how to do it\n",
    "# The code is commented out to prevent it from running (executing)\n",
    "#diabetes_df.drop(['blood_pressure'], axis=1, inplace=True)"
   ]
  },
  {
   "cell_type": "markdown",
   "metadata": {},
   "source": [
    "# 9 Rename values"
   ]
  },
  {
   "cell_type": "code",
   "execution_count": 28,
   "metadata": {},
   "outputs": [],
   "source": [
    "# ANOTHER ILLUSTRATION\n",
    "# Suppose you want to rename the outcomes 0/1 to \"Yes\" and \"no\"\n",
    "# Again, this is just sample code to illustrate how to do it\n",
    "# The code is commented out to prevent it from running (executing)\n",
    "\n",
    "#diabetes_df[\"outcome\"] = diabetes_df[\"outcome\"].replace({1:\"Yes\",0:\"No\"})\n",
    "\n",
    "# Check\n",
    "#diabetes_df.head()"
   ]
  },
  {
   "cell_type": "markdown",
   "metadata": {},
   "source": [
    "# 10 View the cleaned data"
   ]
  },
  {
   "cell_type": "code",
   "execution_count": 29,
   "metadata": {
    "scrolled": true
   },
   "outputs": [
    {
     "data": {
      "text/html": [
       "<div>\n",
       "<style scoped>\n",
       "    .dataframe tbody tr th:only-of-type {\n",
       "        vertical-align: middle;\n",
       "    }\n",
       "\n",
       "    .dataframe tbody tr th {\n",
       "        vertical-align: top;\n",
       "    }\n",
       "\n",
       "    .dataframe thead th {\n",
       "        text-align: right;\n",
       "    }\n",
       "</style>\n",
       "<table border=\"1\" class=\"dataframe\">\n",
       "  <thead>\n",
       "    <tr style=\"text-align: right;\">\n",
       "      <th></th>\n",
       "      <th>num_pregnancies</th>\n",
       "      <th>glucose</th>\n",
       "      <th>blood_pressure</th>\n",
       "      <th>skin_thickness</th>\n",
       "      <th>insulin</th>\n",
       "      <th>bmi</th>\n",
       "      <th>pedigree</th>\n",
       "      <th>age</th>\n",
       "      <th>outcome</th>\n",
       "    </tr>\n",
       "  </thead>\n",
       "  <tbody>\n",
       "    <tr>\n",
       "      <th>0</th>\n",
       "      <td>6.0</td>\n",
       "      <td>148.0</td>\n",
       "      <td>72.0</td>\n",
       "      <td>35.0</td>\n",
       "      <td>125.0</td>\n",
       "      <td>33.6</td>\n",
       "      <td>0.6270</td>\n",
       "      <td>50.0</td>\n",
       "      <td>1</td>\n",
       "    </tr>\n",
       "    <tr>\n",
       "      <th>1</th>\n",
       "      <td>1.0</td>\n",
       "      <td>85.0</td>\n",
       "      <td>66.0</td>\n",
       "      <td>29.0</td>\n",
       "      <td>125.0</td>\n",
       "      <td>26.6</td>\n",
       "      <td>0.3510</td>\n",
       "      <td>31.0</td>\n",
       "      <td>0</td>\n",
       "    </tr>\n",
       "    <tr>\n",
       "      <th>2</th>\n",
       "      <td>8.0</td>\n",
       "      <td>183.0</td>\n",
       "      <td>64.0</td>\n",
       "      <td>29.0</td>\n",
       "      <td>125.0</td>\n",
       "      <td>23.3</td>\n",
       "      <td>0.6720</td>\n",
       "      <td>32.0</td>\n",
       "      <td>1</td>\n",
       "    </tr>\n",
       "    <tr>\n",
       "      <th>3</th>\n",
       "      <td>1.0</td>\n",
       "      <td>89.0</td>\n",
       "      <td>66.0</td>\n",
       "      <td>23.0</td>\n",
       "      <td>125.0</td>\n",
       "      <td>28.1</td>\n",
       "      <td>0.1670</td>\n",
       "      <td>21.0</td>\n",
       "      <td>0</td>\n",
       "    </tr>\n",
       "    <tr>\n",
       "      <th>4</th>\n",
       "      <td>0.0</td>\n",
       "      <td>137.0</td>\n",
       "      <td>40.0</td>\n",
       "      <td>35.0</td>\n",
       "      <td>125.0</td>\n",
       "      <td>43.1</td>\n",
       "      <td>0.3725</td>\n",
       "      <td>33.0</td>\n",
       "      <td>1</td>\n",
       "    </tr>\n",
       "  </tbody>\n",
       "</table>\n",
       "</div>"
      ],
      "text/plain": [
       "   num_pregnancies  glucose  blood_pressure  skin_thickness  insulin   bmi  \\\n",
       "0              6.0    148.0            72.0            35.0    125.0  33.6   \n",
       "1              1.0     85.0            66.0            29.0    125.0  26.6   \n",
       "2              8.0    183.0            64.0            29.0    125.0  23.3   \n",
       "3              1.0     89.0            66.0            23.0    125.0  28.1   \n",
       "4              0.0    137.0            40.0            35.0    125.0  43.1   \n",
       "\n",
       "   pedigree   age  outcome  \n",
       "0    0.6270  50.0        1  \n",
       "1    0.3510  31.0        0  \n",
       "2    0.6720  32.0        1  \n",
       "3    0.1670  21.0        0  \n",
       "4    0.3725  33.0        1  "
      ]
     },
     "execution_count": 29,
     "metadata": {},
     "output_type": "execute_result"
    }
   ],
   "source": [
    "# You might want to do a final check on the data\n",
    "diabetes_df.head() \n",
    "\n",
    "# You could also save the cleaned data as a CSV file\n",
    "# However, when reloading the file again, floats might have changed back to strings (need to change again)\n",
    "#diabetes_df.to_csv('diabetes-cleaned.csv', index=False) # Save in current folder\n",
    "#diabetes_df.to_csv('data/diabetes-cleaned.csv', index=False) # save in data folder - make sure it exists\n",
    "# If you saved the cleaned data as a CSV file, you can view its contents using Excel\n",
    "\n",
    "# Note: If the last statement is saving to CSV, then you wont see the result of the head() function.\n",
    "# Either, put the statement diabetes_df.head() last in the cell\n",
    "# Or, use print(diabetes_df.head()), but then you will lose the nice formatting!"
   ]
  },
  {
   "cell_type": "markdown",
   "metadata": {},
   "source": [
    "# 11 Pickle the cleaned data\n",
    "\n",
    "### For use later in another Jupyter Notebook for Machine Learning"
   ]
  },
  {
   "cell_type": "code",
   "execution_count": 30,
   "metadata": {},
   "outputs": [
    {
     "data": {
      "text/plain": [
       "['diabetes-cleaned.pkl']"
      ]
     },
     "execution_count": 30,
     "metadata": {},
     "output_type": "execute_result"
    }
   ],
   "source": [
    "# Save the object as a pickle in a file \n",
    "joblib.dump(diabetes_df, 'diabetes-cleaned.pkl') \n",
    "  \n",
    "# In the other notebook    \n",
    "# Load the model from the file \n",
    "#diabetes_df = joblib.load('diabetes-cleaned.pkl')  "
   ]
  }
 ],
 "metadata": {
  "anaconda-cloud": {},
  "kernelspec": {
   "display_name": "Python 3",
   "language": "python",
   "name": "python3"
  },
  "language_info": {
   "codemirror_mode": {
    "name": "ipython",
    "version": 3
   },
   "file_extension": ".py",
   "mimetype": "text/x-python",
   "name": "python",
   "nbconvert_exporter": "python",
   "pygments_lexer": "ipython3",
   "version": "3.8.5"
  }
 },
 "nbformat": 4,
 "nbformat_minor": 2
}

{
 "cells": [
  {
   "cell_type": "code",
   "execution_count": 1,
   "metadata": {},
   "outputs": [],
   "source": [
    "import numpy as np\n",
    "import math\n"
   ]
  },
  {
   "cell_type": "code",
   "execution_count": 2,
   "metadata": {},
   "outputs": [],
   "source": [
    "\n",
    "def getNorm(x):\n",
    "    #Yourcodegoesfromheretocalculateandreturnthenorm\n",
    "    num = 0\n",
    "    for i in x:\n",
    "        num = (i*i) + num\n",
    "    norm = math.sqrt(num)\n",
    "    return norm"
   ]
  },
  {
   "cell_type": "code",
   "execution_count": 3,
   "metadata": {},
   "outputs": [],
   "source": [
    "\n",
    "def getInnerProd(x, y):\n",
    "# Your code goes from here to calculate and return the inner product\n",
    "    return np.dot(x, y)"
   ]
  },
  {
   "cell_type": "code",
   "execution_count": 4,
   "metadata": {},
   "outputs": [],
   "source": [
    "def getDist(x, y):\n",
    "    # Your code goes from here to calculate and return the distance\n",
    "    distance = math.sqrt( ((x[0]-y[0])**2)+((x[1]-y[1])**2) +((x[2]-y[2])**2)+((x[3]-y[3])**2)+((x[4]-y[4])**2) )\n",
    "    return distance\n"
   ]
  },
  {
   "cell_type": "code",
   "execution_count": 5,
   "metadata": {},
   "outputs": [],
   "source": [
    "# xVec= [0,1,2,3,4]\n",
    "xVec =range(5)\n"
   ]
  },
  {
   "cell_type": "code",
   "execution_count": 6,
   "metadata": {},
   "outputs": [],
   "source": [
    "# yVec= [4,3,2,1,0]\n",
    "yVec=range(4,-1,-1)\n"
   ]
  },
  {
   "cell_type": "code",
   "execution_count": 7,
   "metadata": {},
   "outputs": [
    {
     "name": "stdout",
     "output_type": "stream",
     "text": [
      "norm(x)= 5.477225575051661 norm(y) = 5.477225575051661\n"
     ]
    }
   ],
   "source": [
    "#  expected  result:  norm(x)=  5.4772\tnorm(y) =5.4772\n",
    "print(\"norm(x)=\",getNorm(xVec),\"norm(y) =\",getNorm(yVec))"
   ]
  },
  {
   "cell_type": "code",
   "execution_count": 8,
   "metadata": {},
   "outputs": [
    {
     "name": "stdout",
     "output_type": "stream",
     "text": [
      "innerprod(x,y) = 10\n"
     ]
    }
   ],
   "source": [
    "#expectedresult:innerprod(x,y)=10\n",
    "print(\"innerprod(x,y) =\" ,  getInnerProd(xVec,   yVec)) "
   ]
  },
  {
   "cell_type": "code",
   "execution_count": 9,
   "metadata": {},
   "outputs": [
    {
     "data": {
      "text/plain": [
       "6.324555320336759"
      ]
     },
     "execution_count": 9,
     "metadata": {},
     "output_type": "execute_result"
    }
   ],
   "source": [
    "#expected result: distance(x,y) = 6.3246\n",
    "# print(\"distance(x,y) =\", getDist(xVec,yVec))\n",
    "getDist(xVec,yVec)"
   ]
  },
  {
   "cell_type": "code",
   "execution_count": 13,
   "metadata": {},
   "outputs": [
    {
     "name": "stdout",
     "output_type": "stream",
     "text": [
      "xvector= [0.34986916 0.54875272 0.3386934  0.89428998 0.1765298  0.58043691\n",
      " 0.70985161 0.73226297 0.02586817 0.48407263] \n",
      "yvector= [0.59953238 0.20020411 0.0694773  0.17534453 0.48964801 0.80837582\n",
      " 0.26603613 0.53213725 0.03738484 0.67411466] \n",
      "\n",
      "distance(x,y) = 0.9333920609366598\n"
     ]
    }
   ],
   "source": [
    "# Generate  two  random  vectors  of  length  10  and  calculate  their  distance.  # Your code goes from here. Use rand() to generate randomvectors.\n",
    "x = np.random.rand(10)\n",
    "y = np.random.rand(10)\n",
    "print(\"xvector=\", x,\"\\nyvector=\",y,\"\\n\")\n",
    "print(\"distance(x,y) =\", getDist(x,y))\n"
   ]
  },
  {
   "cell_type": "code",
   "execution_count": null,
   "metadata": {},
   "outputs": [],
   "source": []
  }
 ],
 "metadata": {
  "kernelspec": {
   "display_name": "Python 3",
   "language": "python",
   "name": "python3"
  },
  "language_info": {
   "codemirror_mode": {
    "name": "ipython",
    "version": 3
   },
   "file_extension": ".py",
   "mimetype": "text/x-python",
   "name": "python",
   "nbconvert_exporter": "python",
   "pygments_lexer": "ipython3",
   "version": "3.7.4"
  }
 },
 "nbformat": 4,
 "nbformat_minor": 2
}

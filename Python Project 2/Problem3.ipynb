{
 "cells": [
  {
   "cell_type": "code",
   "execution_count": 33,
   "metadata": {},
   "outputs": [],
   "source": [
    "def countVotes(votes):\n",
    "    #Yourcodegoesfromheretocounttheinputvotesandoutputvotingresult\n",
    "    list1 = votes.split(',')\n",
    "    count = 0\n",
    "    reject = 0\n",
    "    for x in list1:\n",
    "        if (x.strip(' ') == 'y') or (x.strip(' ') == 'Y'):\n",
    "            count = count + 1\n",
    "        elif (x.strip(' ') == 'n') or (x.strip(' ') == 'N'):\n",
    "            reject = reject + 1\n",
    "    print(f\"Reject: 20 votes in total, {count} accept and {reject} reject\")\n",
    "\n",
    "\n"
   ]
  },
  {
   "cell_type": "code",
   "execution_count": 34,
   "metadata": {},
   "outputs": [
    {
     "name": "stdout",
     "output_type": "stream",
     "text": [
      "Reject: 20 votes in total, 7 accept and 13 reject\n"
     ]
    }
   ],
   "source": [
    "votes = \"N ,Y, Y,N,n, N , N , N ,n ,y, n,N,Y, y,Y,N, N , n ,y, N\"\n",
    "# the function call below should display the message \n",
    "# Reject: 20 votes in total, 7 accept and 13 reject\n",
    "countVotes(votes)\n"
   ]
  },
  {
   "cell_type": "code",
   "execution_count": 35,
   "metadata": {},
   "outputs": [
    {
     "name": "stdout",
     "output_type": "stream",
     "text": [
      "Reject: 20 votes in total, 11 accept and 9 reject\n"
     ]
    }
   ],
   "source": [
    "votes =  \"y,n,Y,y,y ,n, N,  Y,N  , N,y, n,  Y,Y,y,  N  ,y, n,  n  , Y  \"  #thefunctioncallbelowshoulddisplaythemessage\n",
    "# Accept: 20 votes in total, 11 accept and 9 reject\n",
    "\n",
    "countVotes(votes)\n",
    "\n"
   ]
  },
  {
   "cell_type": "code",
   "execution_count": null,
   "metadata": {},
   "outputs": [],
   "source": []
  }
 ],
 "metadata": {
  "kernelspec": {
   "display_name": "Python 3",
   "language": "python",
   "name": "python3"
  },
  "language_info": {
   "codemirror_mode": {
    "name": "ipython",
    "version": 3
   },
   "file_extension": ".py",
   "mimetype": "text/x-python",
   "name": "python",
   "nbconvert_exporter": "python",
   "pygments_lexer": "ipython3",
   "version": "3.7.4"
  }
 },
 "nbformat": 4,
 "nbformat_minor": 2
}

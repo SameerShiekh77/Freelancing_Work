{
 "cells": [
  {
   "cell_type": "code",
   "execution_count": 1,
   "metadata": {},
   "outputs": [],
   "source": [
    "def capitalise(phrase):\n",
    "    lowerWordList = [\"a\", \"an\", \"the\", \"am\", \"is\", \"are\", \"and\", \"of\", \"in\", \"on\", \"with\", \"from\", \"to\"]\n",
    "\n",
    "    arr = \"\"\n",
    "    #writeyourcodegoesfromheretoperformwordcapitalisation\n",
    "    wordsList = phrase.split(\" \")\n",
    "#     print(wordsList)\n",
    "    for word in wordsList:\n",
    "        if word in lowerWordList: \n",
    "            w = word.lower()\n",
    "            arr = arr + w + \" \"\n",
    "        else:\n",
    "            w = word[0: 1].upper()\n",
    "            wl = word[1:].lower()\n",
    "            arr = arr + w + wl + \" \"\n",
    "    print(arr)\n"
   ]
  },
  {
   "cell_type": "code",
   "execution_count": 2,
   "metadata": {},
   "outputs": [
    {
     "name": "stdout",
     "output_type": "stream",
     "text": [
      "I am an Educator and a Researcher \n"
     ]
    }
   ],
   "source": [
    "# Output: \"I am an Educator and a Researcher\"\n",
    "capitalise(\"I am an educator and a researcher\")"
   ]
  },
  {
   "cell_type": "code",
   "execution_count": 3,
   "metadata": {},
   "outputs": [
    {
     "name": "stdout",
     "output_type": "stream",
     "text": [
      "Big Data  is  the  Future  of  Information  Technology \n"
     ]
    }
   ],
   "source": [
    "# Output: \"Big Data is the Future of Information Technology\"\n",
    "capitalise(\"big data  is  the  future  of  information  technology\")  "
   ]
  },
  {
   "cell_type": "code",
   "execution_count": 4,
   "metadata": {},
   "outputs": [
    {
     "name": "stdout",
     "output_type": "stream",
     "text": [
      "He Wants to Have Break Fast with Her in the Hotel \n"
     ]
    }
   ],
   "source": [
    "# Output: \"He Wants to Have Breakfast with Her in the Hotel\"\n",
    "capitalise(\"He wants to have break fast with her in the hotel\")"
   ]
  },
  {
   "cell_type": "code",
   "execution_count": null,
   "metadata": {},
   "outputs": [],
   "source": []
  }
 ],
 "metadata": {
  "kernelspec": {
   "display_name": "Python 3",
   "language": "python",
   "name": "python3"
  },
  "language_info": {
   "codemirror_mode": {
    "name": "ipython",
    "version": 3
   },
   "file_extension": ".py",
   "mimetype": "text/x-python",
   "name": "python",
   "nbconvert_exporter": "python",
   "pygments_lexer": "ipython3",
   "version": "3.7.4"
  }
 },
 "nbformat": 4,
 "nbformat_minor": 2
}

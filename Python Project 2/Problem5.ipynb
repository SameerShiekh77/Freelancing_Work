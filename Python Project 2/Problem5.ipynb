{
 "cells": [
  {
   "cell_type": "code",
   "execution_count": 1,
   "metadata": {},
   "outputs": [],
   "source": [
    "# itemgetter is used by the sorted() system function\n",
    "from operator import itemgetter\n"
   ]
  },
  {
   "cell_type": "code",
   "execution_count": 5,
   "metadata": {},
   "outputs": [],
   "source": [
    "def createDict(filename):\n",
    "    # Your code goes from here to create and return a dictionary\n",
    "    with open(filename ,'r') as f:\n",
    "        para = f.read()\n",
    "    words = para.split()\n",
    "    occur = 0\n",
    "    counts = {}\n",
    "    for word in words:\n",
    "        if word in counts:\n",
    "            counts[word] += 1\n",
    "        else:\n",
    "            counts[word] = 1\n",
    "\n",
    "    return counts\n",
    "    \n",
    "    \n",
    "    \n"
   ]
  },
  {
   "cell_type": "code",
   "execution_count": 6,
   "metadata": {},
   "outputs": [
    {
     "name": "stdout",
     "output_type": "stream",
     "text": [
      "the 296\n",
      "of 226\n",
      "and 218\n",
      "to 179\n",
      "data 168\n",
      "in 117\n",
      "a 99\n",
      "is 82\n",
      "as 67\n",
      "The 60\n"
     ]
    }
   ],
   "source": [
    "myDict =createDict(\"bigdata.txt\")\n",
    "# sort the items of the dictionary by descending order of the second entry of each pair (i.e.value in the key-valuepair)\n",
    "# note that the return value is a list which is assigned to sortedList\n",
    "\n",
    "sortedList  =  sorted(myDict.items(),  key=itemgetter(1),  reverse  =  True) # print the top 10 entries in the sortedlist\n",
    "\n",
    "for key,value in sortedList[:10]:\n",
    "    print(key, value)\n"
   ]
  },
  {
   "cell_type": "code",
   "execution_count": null,
   "metadata": {},
   "outputs": [],
   "source": []
  }
 ],
 "metadata": {
  "kernelspec": {
   "display_name": "Python 3",
   "language": "python",
   "name": "python3"
  },
  "language_info": {
   "codemirror_mode": {
    "name": "ipython",
    "version": 3
   },
   "file_extension": ".py",
   "mimetype": "text/x-python",
   "name": "python",
   "nbconvert_exporter": "python",
   "pygments_lexer": "ipython3",
   "version": "3.7.4"
  }
 },
 "nbformat": 4,
 "nbformat_minor": 2
}

{
 "cells": [
  {
   "cell_type": "markdown",
   "metadata": {},
   "source": [
    "# ISYS2407 Information Systems Solutions & Design\n",
    "\n",
    "# Exploratory Data Analysis\n",
    "\n",
    "###### © France and Christopher Cheong 2020"
   ]
  },
  {
   "cell_type": "markdown",
   "metadata": {},
   "source": [
    "## 1 Import libraries"
   ]
  },
  {
   "cell_type": "code",
   "execution_count": 1,
   "metadata": {},
   "outputs": [],
   "source": [
    "# Pandas is the main library used for exploratory data analysis\n",
    "# Pandas is built on top of numpy \n",
    "# Numpy allows fast advanced mathematical operations on large amount of data\n",
    "import numpy as np\n",
    "import pandas as pd\n",
    "\n",
    "# Library to assign missing values - not used here, better do it in EDA\n",
    "from sklearn.impute import SimpleImputer\n",
    "\n",
    "# Matplotlib is the main plotting library for python\n",
    "# Seaborn is built on top of matplotlib and it's easier to use\n",
    "# pandas also have same basic plotting capabilities which are again built on top of matplotlib\n",
    "import matplotlib.pyplot as plt\n",
    "# The next statement instructs matplotlib to plot the graphs inside the notebook\n",
    "%matplotlib inline \n",
    "import seaborn as sns\n",
    "\n",
    "# Another useful plotting library is plotly - it is used for interactive plots"
   ]
  },
  {
   "cell_type": "markdown",
   "metadata": {},
   "source": [
    "## 2 Load data"
   ]
  },
  {
   "cell_type": "code",
   "execution_count": 2,
   "metadata": {},
   "outputs": [],
   "source": [
    "# Load the data - assuming its stored on your computer\n",
    "#diabetes_df = pd.read_csv(\"diabetes.csv\") # the suffix _df stands for dataframe\n",
    "#diabetes_df = pd.read_csv(\"data/diabetes.csv\") # if the CSV file is in folder data\n",
    "\n",
    "# If you suspect missing values are coded in non-standard ways\n",
    "#missing_values = ['?', '--', ' ', 'NA', 'N/A', '-'] # you can add more in the list\n",
    "#diabetes_df = pd.read_csv(\"diabetes.csv\", na_values=missing_values)\n",
    "\n",
    "# If delimiter is not a comma\n",
    "#diabetes_df = pd.read_csv(\"diabetes.csv\", delimiter=';')"
   ]
  },
  {
   "cell_type": "code",
   "execution_count": 3,
   "metadata": {},
   "outputs": [],
   "source": [
    "# Load the data from the web\n",
    "url = 'https://raw.githubusercontent.com/jbrownlee/Datasets/master/pima-indians-diabetes.csv'\n",
    "col_names = ['num_pregnancies', \n",
    "             'glucose', \n",
    "             'blood_pressure', \n",
    "             'skin_thickness', \n",
    "             'insulin', \n",
    "             'bmi', \n",
    "             'pedigree', \n",
    "             'age', \n",
    "             'outcome']\n",
    "diabetes_df = pd.read_csv(url, header=None, names=col_names)"
   ]
  },
  {
   "cell_type": "code",
   "execution_count": 4,
   "metadata": {
    "scrolled": true
   },
   "outputs": [
    {
     "name": "stdout",
     "output_type": "stream",
     "text": [
      "<class 'pandas.core.frame.DataFrame'>\n"
     ]
    }
   ],
   "source": [
    "# What is the data type?\n",
    "#type(diabetes_df)\n",
    "# or\n",
    "print(type(diabetes_df))"
   ]
  },
  {
   "cell_type": "code",
   "execution_count": 5,
   "metadata": {
    "scrolled": true
   },
   "outputs": [
    {
     "name": "stdout",
     "output_type": "stream",
     "text": [
      "<class 'pandas.core.frame.DataFrame'>\n",
      "RangeIndex: 768 entries, 0 to 767\n",
      "Data columns (total 9 columns):\n",
      " #   Column           Non-Null Count  Dtype  \n",
      "---  ------           --------------  -----  \n",
      " 0   num_pregnancies  768 non-null    int64  \n",
      " 1   glucose          768 non-null    int64  \n",
      " 2   blood_pressure   768 non-null    int64  \n",
      " 3   skin_thickness   768 non-null    int64  \n",
      " 4   insulin          768 non-null    int64  \n",
      " 5   bmi              768 non-null    float64\n",
      " 6   pedigree         768 non-null    float64\n",
      " 7   age              768 non-null    int64  \n",
      " 8   outcome          768 non-null    int64  \n",
      "dtypes: float64(2), int64(7)\n",
      "memory usage: 54.1 KB\n"
     ]
    }
   ],
   "source": [
    "diabetes_df.info()"
   ]
  },
  {
   "cell_type": "code",
   "execution_count": 6,
   "metadata": {},
   "outputs": [
    {
     "name": "stdout",
     "output_type": "stream",
     "text": [
      "(768, 9)\n",
      "768\n",
      "9\n"
     ]
    }
   ],
   "source": [
    "# shape will return as tuple containing the number of rows and columns\n",
    "#diabetes_df.shape\n",
    "#diabetes_df.shape[0]\n",
    "#diabetes_df.shape[1]\n",
    "\n",
    "# Note: the result of a line of code is automatically printed below the cell\n",
    "# However, if there are more than one statements, then one of them will print its results\n",
    "# And only the result of the last statement is visible\n",
    "# But if you can override this behaviour by using print statements as shown below\n",
    "print(diabetes_df.shape)\n",
    "print(diabetes_df.shape[0])\n",
    "print(diabetes_df.shape[1])"
   ]
  },
  {
   "cell_type": "code",
   "execution_count": 7,
   "metadata": {},
   "outputs": [
    {
     "data": {
      "text/html": [
       "<div>\n",
       "<style scoped>\n",
       "    .dataframe tbody tr th:only-of-type {\n",
       "        vertical-align: middle;\n",
       "    }\n",
       "\n",
       "    .dataframe tbody tr th {\n",
       "        vertical-align: top;\n",
       "    }\n",
       "\n",
       "    .dataframe thead th {\n",
       "        text-align: right;\n",
       "    }\n",
       "</style>\n",
       "<table border=\"1\" class=\"dataframe\">\n",
       "  <thead>\n",
       "    <tr style=\"text-align: right;\">\n",
       "      <th></th>\n",
       "      <th>num_pregnancies</th>\n",
       "      <th>glucose</th>\n",
       "      <th>blood_pressure</th>\n",
       "      <th>skin_thickness</th>\n",
       "      <th>insulin</th>\n",
       "      <th>bmi</th>\n",
       "      <th>pedigree</th>\n",
       "      <th>age</th>\n",
       "      <th>outcome</th>\n",
       "    </tr>\n",
       "  </thead>\n",
       "  <tbody>\n",
       "    <tr>\n",
       "      <th>0</th>\n",
       "      <td>6</td>\n",
       "      <td>148</td>\n",
       "      <td>72</td>\n",
       "      <td>35</td>\n",
       "      <td>0</td>\n",
       "      <td>33.6</td>\n",
       "      <td>0.627</td>\n",
       "      <td>50</td>\n",
       "      <td>1</td>\n",
       "    </tr>\n",
       "    <tr>\n",
       "      <th>1</th>\n",
       "      <td>1</td>\n",
       "      <td>85</td>\n",
       "      <td>66</td>\n",
       "      <td>29</td>\n",
       "      <td>0</td>\n",
       "      <td>26.6</td>\n",
       "      <td>0.351</td>\n",
       "      <td>31</td>\n",
       "      <td>0</td>\n",
       "    </tr>\n",
       "    <tr>\n",
       "      <th>2</th>\n",
       "      <td>8</td>\n",
       "      <td>183</td>\n",
       "      <td>64</td>\n",
       "      <td>0</td>\n",
       "      <td>0</td>\n",
       "      <td>23.3</td>\n",
       "      <td>0.672</td>\n",
       "      <td>32</td>\n",
       "      <td>1</td>\n",
       "    </tr>\n",
       "    <tr>\n",
       "      <th>3</th>\n",
       "      <td>1</td>\n",
       "      <td>89</td>\n",
       "      <td>66</td>\n",
       "      <td>23</td>\n",
       "      <td>94</td>\n",
       "      <td>28.1</td>\n",
       "      <td>0.167</td>\n",
       "      <td>21</td>\n",
       "      <td>0</td>\n",
       "    </tr>\n",
       "    <tr>\n",
       "      <th>4</th>\n",
       "      <td>0</td>\n",
       "      <td>137</td>\n",
       "      <td>40</td>\n",
       "      <td>35</td>\n",
       "      <td>168</td>\n",
       "      <td>43.1</td>\n",
       "      <td>2.288</td>\n",
       "      <td>33</td>\n",
       "      <td>1</td>\n",
       "    </tr>\n",
       "  </tbody>\n",
       "</table>\n",
       "</div>"
      ],
      "text/plain": [
       "   num_pregnancies  glucose  blood_pressure  skin_thickness  insulin   bmi  \\\n",
       "0                6      148              72              35        0  33.6   \n",
       "1                1       85              66              29        0  26.6   \n",
       "2                8      183              64               0        0  23.3   \n",
       "3                1       89              66              23       94  28.1   \n",
       "4                0      137              40              35      168  43.1   \n",
       "\n",
       "   pedigree  age  outcome  \n",
       "0     0.627   50        1  \n",
       "1     0.351   31        0  \n",
       "2     0.672   32        1  \n",
       "3     0.167   21        0  \n",
       "4     2.288   33        1  "
      ]
     },
     "execution_count": 7,
     "metadata": {},
     "output_type": "execute_result"
    }
   ],
   "source": [
    "# By default, head() will display 5 rows\n",
    "diabetes_df.head()\n",
    "# If you want to see more rows, pass the number as a parameter to the function\n",
    "#diabetes_df.head(10)\n",
    "\n",
    "# Note: You can also use Excel to view the CSV file"
   ]
  },
  {
   "cell_type": "markdown",
   "metadata": {},
   "source": [
    "# 3 Summary statistics"
   ]
  },
  {
   "cell_type": "code",
   "execution_count": 8,
   "metadata": {
    "scrolled": false
   },
   "outputs": [
    {
     "name": "stdout",
     "output_type": "stream",
     "text": [
      "Rows     : 768\n",
      "Columns  : 9\n",
      "\n",
      "Features : ['num_pregnancies', 'glucose', 'blood_pressure', 'skin_thickness', 'insulin', 'bmi', 'pedigree', 'age', 'outcome']\n",
      "\n",
      "Missing values :  0\n",
      "Unique values :  num_pregnancies     17\n",
      "glucose            136\n",
      "blood_pressure      47\n",
      "skin_thickness      51\n",
      "insulin            186\n",
      "bmi                248\n",
      "pedigree           517\n",
      "age                 52\n",
      "outcome              2\n",
      "dtype: int64\n"
     ]
    }
   ],
   "source": [
    "# Print the number of rows and columns (as done before)\n",
    "# We are here using the python3 f-string which is a lot easier to use\n",
    "# The format is f\"\"\n",
    "# Inside the single or double quotation marks, you can have any combination of strings and variables\n",
    "# Variables are enclosed within curly brackets {}\n",
    "# The f-string dosumentation can be found at https://www.python.org/dev/peps/pep-0498/\n",
    "print(f\"Rows     : {diabetes_df.shape[0]}\")\n",
    "print(f\"Columns  : {diabetes_df.shape[1]}\" ,)\n",
    "print()\n",
    "\n",
    "# Print the column names\n",
    "print(f\"Features : {diabetes_df.columns.tolist()}\")\n",
    "print()\n",
    "\n",
    "# Print the total number of null values in the data\n",
    "# Null values are - NaN (not a number), or blank spaces\n",
    "# 0 is not a null value - it's a valid value\n",
    "print(f\"Missing values :  {diabetes_df.isnull().sum().values.sum()}\")\n",
    "\n",
    "# For each column, print the number of unique values\n",
    "# 2 unique values in column - binary categorical variable e.g. male/female, yes/no, etc\n",
    "# less than 6 values in columns - still a categorical value but with more than 2 classes\n",
    "# large number of values - continuous variable\n",
    "print(f\"Unique values :  {diabetes_df.nunique()}\")"
   ]
  },
  {
   "cell_type": "markdown",
   "metadata": {},
   "source": [
    "# 4 Descriptive statistics for continuous values"
   ]
  },
  {
   "cell_type": "code",
   "execution_count": 9,
   "metadata": {
    "scrolled": true
   },
   "outputs": [
    {
     "data": {
      "text/html": [
       "<div>\n",
       "<style scoped>\n",
       "    .dataframe tbody tr th:only-of-type {\n",
       "        vertical-align: middle;\n",
       "    }\n",
       "\n",
       "    .dataframe tbody tr th {\n",
       "        vertical-align: top;\n",
       "    }\n",
       "\n",
       "    .dataframe thead th {\n",
       "        text-align: right;\n",
       "    }\n",
       "</style>\n",
       "<table border=\"1\" class=\"dataframe\">\n",
       "  <thead>\n",
       "    <tr style=\"text-align: right;\">\n",
       "      <th></th>\n",
       "      <th>count</th>\n",
       "      <th>mean</th>\n",
       "      <th>std</th>\n",
       "      <th>min</th>\n",
       "      <th>25%</th>\n",
       "      <th>50%</th>\n",
       "      <th>75%</th>\n",
       "      <th>max</th>\n",
       "    </tr>\n",
       "  </thead>\n",
       "  <tbody>\n",
       "    <tr>\n",
       "      <th>num_pregnancies</th>\n",
       "      <td>768.0</td>\n",
       "      <td>3.845052</td>\n",
       "      <td>3.369578</td>\n",
       "      <td>0.000</td>\n",
       "      <td>1.00000</td>\n",
       "      <td>3.0000</td>\n",
       "      <td>6.00000</td>\n",
       "      <td>17.00</td>\n",
       "    </tr>\n",
       "    <tr>\n",
       "      <th>glucose</th>\n",
       "      <td>768.0</td>\n",
       "      <td>120.894531</td>\n",
       "      <td>31.972618</td>\n",
       "      <td>0.000</td>\n",
       "      <td>99.00000</td>\n",
       "      <td>117.0000</td>\n",
       "      <td>140.25000</td>\n",
       "      <td>199.00</td>\n",
       "    </tr>\n",
       "    <tr>\n",
       "      <th>blood_pressure</th>\n",
       "      <td>768.0</td>\n",
       "      <td>69.105469</td>\n",
       "      <td>19.355807</td>\n",
       "      <td>0.000</td>\n",
       "      <td>62.00000</td>\n",
       "      <td>72.0000</td>\n",
       "      <td>80.00000</td>\n",
       "      <td>122.00</td>\n",
       "    </tr>\n",
       "    <tr>\n",
       "      <th>skin_thickness</th>\n",
       "      <td>768.0</td>\n",
       "      <td>20.536458</td>\n",
       "      <td>15.952218</td>\n",
       "      <td>0.000</td>\n",
       "      <td>0.00000</td>\n",
       "      <td>23.0000</td>\n",
       "      <td>32.00000</td>\n",
       "      <td>99.00</td>\n",
       "    </tr>\n",
       "    <tr>\n",
       "      <th>insulin</th>\n",
       "      <td>768.0</td>\n",
       "      <td>79.799479</td>\n",
       "      <td>115.244002</td>\n",
       "      <td>0.000</td>\n",
       "      <td>0.00000</td>\n",
       "      <td>30.5000</td>\n",
       "      <td>127.25000</td>\n",
       "      <td>846.00</td>\n",
       "    </tr>\n",
       "    <tr>\n",
       "      <th>bmi</th>\n",
       "      <td>768.0</td>\n",
       "      <td>31.992578</td>\n",
       "      <td>7.884160</td>\n",
       "      <td>0.000</td>\n",
       "      <td>27.30000</td>\n",
       "      <td>32.0000</td>\n",
       "      <td>36.60000</td>\n",
       "      <td>67.10</td>\n",
       "    </tr>\n",
       "    <tr>\n",
       "      <th>pedigree</th>\n",
       "      <td>768.0</td>\n",
       "      <td>0.471876</td>\n",
       "      <td>0.331329</td>\n",
       "      <td>0.078</td>\n",
       "      <td>0.24375</td>\n",
       "      <td>0.3725</td>\n",
       "      <td>0.62625</td>\n",
       "      <td>2.42</td>\n",
       "    </tr>\n",
       "    <tr>\n",
       "      <th>age</th>\n",
       "      <td>768.0</td>\n",
       "      <td>33.240885</td>\n",
       "      <td>11.760232</td>\n",
       "      <td>21.000</td>\n",
       "      <td>24.00000</td>\n",
       "      <td>29.0000</td>\n",
       "      <td>41.00000</td>\n",
       "      <td>81.00</td>\n",
       "    </tr>\n",
       "    <tr>\n",
       "      <th>outcome</th>\n",
       "      <td>768.0</td>\n",
       "      <td>0.348958</td>\n",
       "      <td>0.476951</td>\n",
       "      <td>0.000</td>\n",
       "      <td>0.00000</td>\n",
       "      <td>0.0000</td>\n",
       "      <td>1.00000</td>\n",
       "      <td>1.00</td>\n",
       "    </tr>\n",
       "  </tbody>\n",
       "</table>\n",
       "</div>"
      ],
      "text/plain": [
       "                 count        mean         std     min       25%       50%  \\\n",
       "num_pregnancies  768.0    3.845052    3.369578   0.000   1.00000    3.0000   \n",
       "glucose          768.0  120.894531   31.972618   0.000  99.00000  117.0000   \n",
       "blood_pressure   768.0   69.105469   19.355807   0.000  62.00000   72.0000   \n",
       "skin_thickness   768.0   20.536458   15.952218   0.000   0.00000   23.0000   \n",
       "insulin          768.0   79.799479  115.244002   0.000   0.00000   30.5000   \n",
       "bmi              768.0   31.992578    7.884160   0.000  27.30000   32.0000   \n",
       "pedigree         768.0    0.471876    0.331329   0.078   0.24375    0.3725   \n",
       "age              768.0   33.240885   11.760232  21.000  24.00000   29.0000   \n",
       "outcome          768.0    0.348958    0.476951   0.000   0.00000    0.0000   \n",
       "\n",
       "                       75%     max  \n",
       "num_pregnancies    6.00000   17.00  \n",
       "glucose          140.25000  199.00  \n",
       "blood_pressure    80.00000  122.00  \n",
       "skin_thickness    32.00000   99.00  \n",
       "insulin          127.25000  846.00  \n",
       "bmi               36.60000   67.10  \n",
       "pedigree           0.62625    2.42  \n",
       "age               41.00000   81.00  \n",
       "outcome            1.00000    1.00  "
      ]
     },
     "execution_count": 9,
     "metadata": {},
     "output_type": "execute_result"
    }
   ],
   "source": [
    "#diabetes_df.describe()\n",
    "diabetes_df.describe().T # T means transpose rows to columns"
   ]
  },
  {
   "cell_type": "markdown",
   "metadata": {},
   "source": [
    "# 5 Visualisations"
   ]
  },
  {
   "cell_type": "markdown",
   "metadata": {},
   "source": [
    "# Univariate, bivariate and multivariate data\n",
    "\n",
    "#### 1 Univariate data: data about one variable\n",
    "\n",
    "Univariate data is the simplest form of data since it deals with only one quantity that changes. Analysis and visualisation of this data involves describing the data and finding patterns within the data.\n",
    "\n",
    "\n",
    "#### 2 Bivariate data: data about two variables\n",
    "This type of data involves two different variables. Analysis and visualisation of this type of data involves finding relationships betweenthe two variables\n",
    "\n",
    "\n",
    "#### 3 Multivariate data: data about more than two variables\n",
    "\n",
    "Multivariate data consists of  three or more variables. Analysis and visualisation of multivariate data is similar to bivariate  except that there is more than one dependent variable."
   ]
  },
  {
   "cell_type": "markdown",
   "metadata": {},
   "source": [
    "# 6 Correlations between pairs of variables"
   ]
  },
  {
   "cell_type": "code",
   "execution_count": 10,
   "metadata": {
    "scrolled": false
   },
   "outputs": [
    {
     "name": "stdout",
     "output_type": "stream",
     "text": [
      "<class 'pandas.core.frame.DataFrame'>\n",
      "                 num_pregnancies   glucose  blood_pressure  skin_thickness  \\\n",
      "num_pregnancies         1.000000  0.129459        0.141282       -0.081672   \n",
      "glucose                 0.129459  1.000000        0.152590        0.057328   \n",
      "blood_pressure          0.141282  0.152590        1.000000        0.207371   \n",
      "skin_thickness         -0.081672  0.057328        0.207371        1.000000   \n",
      "insulin                -0.073535  0.331357        0.088933        0.436783   \n",
      "bmi                     0.017683  0.221071        0.281805        0.392573   \n",
      "pedigree               -0.033523  0.137337        0.041265        0.183928   \n",
      "age                     0.544341  0.263514        0.239528       -0.113970   \n",
      "outcome                 0.221898  0.466581        0.065068        0.074752   \n",
      "\n",
      "                  insulin       bmi  pedigree       age   outcome  \n",
      "num_pregnancies -0.073535  0.017683 -0.033523  0.544341  0.221898  \n",
      "glucose          0.331357  0.221071  0.137337  0.263514  0.466581  \n",
      "blood_pressure   0.088933  0.281805  0.041265  0.239528  0.065068  \n",
      "skin_thickness   0.436783  0.392573  0.183928 -0.113970  0.074752  \n",
      "insulin          1.000000  0.197859  0.185071 -0.042163  0.130548  \n",
      "bmi              0.197859  1.000000  0.140647  0.036242  0.292695  \n",
      "pedigree         0.185071  0.140647  1.000000  0.033561  0.173844  \n",
      "age             -0.042163  0.036242  0.033561  1.000000  0.238356  \n",
      "outcome          0.130548  0.292695  0.173844  0.238356  1.000000  \n"
     ]
    }
   ],
   "source": [
    "# 1. Use the corr() function from the dataframe to compute the correlations and display as text\n",
    "corr = diabetes_df.corr()\n",
    "print(type(corr))\n",
    "print(corr)"
   ]
  },
  {
   "cell_type": "code",
   "execution_count": null,
   "metadata": {},
   "outputs": [],
   "source": [
    "# SLOW! Takes a few minutes to plot and might get warnings if probelsm with the data\n",
    "\n",
    "# 2. Using seaborn's pairplot() to plot the correlations as scatter plots and regression lines\n",
    "# The seaborn pairplot documentation can be found \n",
    "# at https://seaborn.pydata.org/generated/seaborn.pairplot.html\n",
    "sns.set(style='ticks')\n",
    "#plt.figure(figsize=(8,16)) #figsize(width, height) in inches - default(6.4, 4.8) - customise as required\n",
    "sns.pairplot(diabetes_df, kind=\"reg\") # kind=\"reg\" means plot the regression line as well\n",
    "\n",
    "# If you want to save the graph to disk\n",
    "plt.tight_layout() # automatically adjusts subplot to fit in the figure area\n",
    "plt.savefig('correlation-pairplot.png', dpi=300) # dpi=300 is print quality\n",
    "\n",
    "# The histograms shown on the diagonals are the frequency distributions of the values in each column\n",
    "# The order is: 'num_pregnancies', 'glucose', 'blood_pressure', 'skin_thickness', \n",
    "# 'insulin', 'bmi', 'pedigree', 'age', 'outcome'\n",
    "\n",
    "# And the other cells show the correlations between pairs of variables\n",
    "# Example in the first row, the y axis is Pregnancies\n",
    "# The variables on the x-axis can be seen at the bottom of the graph\n",
    "# e.g. col2=glucose, col3=blood_pressure, etc\n",
    "# The strength of the correlation depends on the slope of the regression line"
   ]
  },
  {
   "cell_type": "code",
   "execution_count": null,
   "metadata": {
    "scrolled": false
   },
   "outputs": [],
   "source": [
    "# 3. Using seaborn to plot the correlations as a heatmap\n",
    "# Ref: https://seaborn.pydata.org/generated/seaborn.heatmap.html\n",
    "plt.rcParams['figure.figsize'] = (20, 15) #figsize(width, height) in inches - default(6.4, 4.8) - customise as required\n",
    "sns.heatmap(diabetes_df.corr(), annot = True, linewidths=.5, cmap=\"YlGnBu\") # YellowGreenBlue\n",
    "plt.title('Correlation between features', fontsize = 30)\n",
    "#plt.show() # Do not use this if you want to save to file\n",
    "\n",
    "# If you want to save the graph to disk\n",
    "plt.tight_layout() # automatically adjusts subplot to fit in the figure area\n",
    "plt.savefig('correlation-heatmap-rectangular.png', dpi=300) # dpi=300 is print quality\n",
    "\n",
    "# The colours show the strength of the correlations - from yellow (weak) to dark blue (strong)\n",
    "\n",
    "# Cells on the diagonal are dark blue (corr=1) - correlation of the variable with itself"
   ]
  },
  {
   "cell_type": "code",
   "execution_count": null,
   "metadata": {
    "scrolled": true
   },
   "outputs": [],
   "source": [
    "# Changing the shape of the matrix from rectangular to triangular\n",
    "# https://heartbeat.fritz.ai/seaborn-heatmaps-13-ways-to-customize-correlation-matrix-visualizations-f1c49c816f07\n",
    "matrix = np.triu(diabetes_df.corr())\n",
    "sns.heatmap(diabetes_df.corr(), annot=True, mask=matrix,  cmap=\"YlGnBu\")\n",
    "\n",
    "# If you want to save the graph to disk\n",
    "plt.tight_layout() # automatically adjusts subplot to fit in the figure area\n",
    "plt.savefig('correlation-heatmap-traingular.png', dpi=300) # dpi=300 is print quality"
   ]
  },
  {
   "cell_type": "markdown",
   "metadata": {},
   "source": [
    "# 7 Visualisations of continuous variables"
   ]
  },
  {
   "cell_type": "markdown",
   "metadata": {},
   "source": [
    "## 7.1 What is the proportion of diabetics in the sample?"
   ]
  },
  {
   "cell_type": "code",
   "execution_count": null,
   "metadata": {
    "scrolled": false
   },
   "outputs": [],
   "source": [
    "# Plot a pie chart\n",
    "# Get the labels from the \"outcome\" column - use keys() function to get the labels\n",
    "#labels = diabetes_df[\"outcome\"].value_counts().keys().tolist() # [0,1] not meaningful\n",
    "labels = [\"Healthy\", \"Diabetic\"]\n",
    "print(f\"labels: {labels}\")\n",
    "\n",
    "# Get the values from the \"outcome\" column - use values to get the values\n",
    "values = diabetes_df[\"outcome\"].value_counts().values.tolist()\n",
    "print(f\"values: {values}\")\n",
    "\n",
    "# Use matplotlib to draw a simple pie chart\n",
    "# Ref: https://matplotlib.org/3.1.1/api/_as_gen/matplotlib.pyplot.pie.html\n",
    "plt.figure(figsize=(6,6)) #figsize(width, height) in inches - default(6.4, 4.8) - customise as required\n",
    "plt.pie(values, labels=labels, autopct='%1.1f%%', shadow=True)\n",
    "plt.title(\"Proportion of diabetics in sample\", fontsize=20) # use fontsize=20 if title is too small\n",
    "\n",
    "# If the fonts are too small with the default settings, you can adjust them as required\n",
    "#plt.rc('font', size=10)        # adjust default text sizes (if required)\n",
    "#plt.rc('axes', labelsize=10)  # adjust fontsize of labels on x/y axes (if required)\n",
    "#plt.rc('axes', titlesize=10)  # adjust fontsize of titles on x/y axes (if required)\n",
    "#plt.rc('xtick', labelsize=10) # adjust fontsize of tick labels on x axis (if required)\n",
    "#plt.rc('ytick', labelsize=10) # adjust fontsize of tick labels on y axis (if required)\n",
    "#plt.rc('legend', fontsize=10) # adjust fontsize of legend (if required)\n",
    "#plt.rc('figure', titlesize=30) # adjust fontsize of legend (if required)\n",
    "\n",
    "#plt.show() # Do not use this is you want to save to file - the file will be empty\n",
    "\n",
    "# Save the graph to disk\n",
    "plt.tight_layout() # automatically adjusts subplot to fit in the figure area\n",
    "plt.savefig('proportion-diabetics.png', dpi=300)"
   ]
  },
  {
   "cell_type": "markdown",
   "metadata": {},
   "source": [
    "## 7.2 Split the data into 2 groups - diabetics and non-diabetics to perform further analyses (this might or might not be useful)"
   ]
  },
  {
   "cell_type": "code",
   "execution_count": null,
   "metadata": {
    "scrolled": true
   },
   "outputs": [],
   "source": [
    "# Non-diabetics\n",
    "non_diabetics_df = diabetes_df[diabetes_df[\"outcome\"]==0]\n",
    "non_diabetics_df.head()"
   ]
  },
  {
   "cell_type": "code",
   "execution_count": null,
   "metadata": {},
   "outputs": [],
   "source": [
    "# Diabetics\n",
    "diabetics_df = diabetes_df[diabetes_df[\"outcome\"]==1]\n",
    "diabetics_df.head()"
   ]
  },
  {
   "cell_type": "markdown",
   "metadata": {},
   "source": [
    "## 7.3 Impact of glucose on diabetes"
   ]
  },
  {
   "cell_type": "code",
   "execution_count": null,
   "metadata": {
    "scrolled": false
   },
   "outputs": [],
   "source": [
    "# Plot frequency distributions of non-diabetics and diabetics\n",
    "# Ref:https://seaborn.pydata.org/generated/seaborn.distplot.html\n",
    "\n",
    "plt.figure(figsize=(12,8)) # figsize(width, height) in inches - default(6.4, 4.8)\n",
    "#sns.distplot(non_diabetics_df['Glucose'], color=\"skyblue\", label=\"Non-Diabetics\", kde=False)\n",
    "\n",
    "### distplot() is deprecated, it will still work - use histplot() ###\n",
    "#sns.distplot(non_diabetics_df['glucose'], color=\"skyblue\", label=\"Non-Diabetics\") # no kde\n",
    "#sns.distplot(diabetics_df['glucose'], color=\"red\", label=\"Diabetics\")\n",
    "\n",
    "sns.histplot(data=non_diabetics_df, x=\"glucose\", color=\"skyblue\", label=\"Non-Diabetics\", kde=True)\n",
    "sns.histplot(data=diabetics_df, x=\"glucose\", color=\"red\", label=\"Diabetics\", kde=True)\n",
    "\n",
    "plt.legend()\n",
    "plt.title('Impact of glucose levels on diabetes', fontsize = 30)\n",
    "plt.xlabel(\"Glucose levels (mg)\")\n",
    "plt.ylabel(\"Density\")\n",
    "\n",
    "# If you want to save the graph to disk\n",
    "plt.tight_layout() # automatically adjusts subplot to fit in the figure area\n",
    "plt.savefig('glucose-diabetes.png', dpi=300) # dpi=300 is print quality"
   ]
  },
  {
   "cell_type": "markdown",
   "metadata": {},
   "source": [
    "## 7.4 Impact of BMI on diabetes"
   ]
  },
  {
   "cell_type": "code",
   "execution_count": null,
   "metadata": {},
   "outputs": [],
   "source": [
    "# Plot frequency distributions of non-diabetics and diabetics\n",
    "plt.figure(figsize=(12,8)) # figsize(width, height) in inches - default(6.4, 4.8)\n",
    "\n",
    "### distplot() is deprecated, it will still work - use histplot() ###\n",
    "#sns.distplot(non_diabetics_df['bmi'], color=\"skyblue\", label=\"Non-Diabetics\")\n",
    "#sns.distplot(diabetics_df['bmi'], color=\"red\", label=\"Diabetics\")\n",
    "\n",
    "sns.histplot(data=non_diabetics_df, x=\"bmi\", color=\"skyblue\", label=\"Non-Diabetics\", kde=True)\n",
    "sns.histplot(data=diabetics_df, x=\"bmi\", color=\"red\", label=\"Diabetics\", kde=True)\n",
    "\n",
    "plt.title('Impact of BMI on diabetes', fontsize = 30)\n",
    "plt.xlabel(\"BMI\")\n",
    "plt.ylabel(\"Density\")\n",
    "plt.legend()\n",
    "\n",
    "# If you want to save the graph to disk\n",
    "plt.tight_layout() # automatically adjusts subplot to fit in the figure area\n",
    "plt.savefig('bmi-diabetes.png', dpi=300) # dpi=300 is print quality"
   ]
  },
  {
   "cell_type": "markdown",
   "metadata": {},
   "source": [
    "## 7.5 Impact of age on diabetes"
   ]
  },
  {
   "cell_type": "code",
   "execution_count": null,
   "metadata": {
    "scrolled": true
   },
   "outputs": [],
   "source": [
    "# Plot frequency distributions of non-diabetics and diabetics\n",
    "plt.figure(figsize=(12,8)) # figsize(width, height) in inches - default(6.4, 4.8)\n",
    "\n",
    "### distplot() is deprecated, it will still work - use histplot() ###\n",
    "#sns.distplot(non_diabetics_df['age'], color=\"skyblue\", label=\"Non-Diabetics\")\n",
    "#sns.distplot(diabetics_df['age'], color=\"red\", label=\"Diabetics\")\n",
    "\n",
    "sns.histplot(data=non_diabetics_df, x=\"age\", color=\"skyblue\", label=\"Non-Diabetics\", kde=True)\n",
    "sns.histplot(data=diabetics_df, x=\"age\", color=\"red\", label=\"Diabetics\", kde=True)\n",
    "\n",
    "plt.title('Impact of age on diabetes', fontsize = 30)\n",
    "plt.xlabel(\"Age (years)\")\n",
    "plt.ylabel(\"Density\")\n",
    "plt.legend()\n",
    "\n",
    "# If you want to save the graph to disk\n",
    "plt.tight_layout() # automatically adjusts subplot to fit in the figure area\n",
    "plt.savefig('age-diabetes.png', dpi=300) # dpi=300 is print quality"
   ]
  },
  {
   "cell_type": "markdown",
   "metadata": {},
   "source": [
    "# 8 Visualisations of categorical variables"
   ]
  },
  {
   "cell_type": "markdown",
   "metadata": {},
   "source": [
    "There is no categorical variable in this dataset. We'll create an arbitrary categorical variable for the purpose of illustrating the plotting of categorical charts."
   ]
  },
  {
   "cell_type": "markdown",
   "metadata": {},
   "source": [
    "## 8.1 Compute new categorical data and insert as a new column"
   ]
  },
  {
   "cell_type": "code",
   "execution_count": null,
   "metadata": {},
   "outputs": [],
   "source": [
    "# When checking the number of unique values, the blood pressure column was found to contain 47 values\n",
    "# This is evidence that it's a continuous variable\n",
    "# Classification algorithms do not work well with continuous values - too many values\n",
    "# No need to categorise them. How? Need some domain knowlege\n",
    "# less than 80 = normal, between 80-89 = high, greater than 89 = very high\n",
    "# Define a function to classify this\n",
    "# Pass the whole dataframe as parameter\n",
    "# And return a category\n",
    "def bp_category(df): \n",
    "    if df[\"blood_pressure\"] <= 80:\n",
    "        return \"bp_normal\"\n",
    "    elif (df[\"blood_pressure\"] > 80) & (df[\"blood_pressure\"] <= 89):\n",
    "        return \"bp_high\"\n",
    "    elif df[\"blood_pressure\"] > 89:\n",
    "        return \"bp_very_high\"\n",
    "\n",
    "# Use apply() to apply a lambda function for all the rows of the dataframe\n",
    "# The lambda function calls the previously defined function bp_category()\n",
    "# To which it passes the diabetes_df as parameter\n",
    "# And a category is returned and saved in a new column named \"blood_pressure_category\"\n",
    "# https://pandas.pydata.org/pandas-docs/stable/reference/api/pandas.DataFrame.apply.html\n",
    "# the backslash is a line continuation character - there should be nothing after it, not even a space\n",
    "diabetes_df[\"blood_pressure_category\"] = \\\n",
    "    diabetes_df.apply(lambda diabetes_df:bp_category(diabetes_df), axis = 1) # axis=1 = row-wise\n",
    "# Check\n",
    "diabetes_df.head()\n",
    "# This works as there's a new column named \"blood_pressure_category\"\n",
    "# The column \"blood_pressure\" is no longer needed and hence can be deleted \n",
    "\n",
    "# This example has shown how to add a column using apply() and a lambda function\n",
    "# There are other ways to add columns to a dataframe\n",
    "# You can google this \n",
    "# e.g https://pandas.pydata.org/docs/getting_started/intro_tutorials/05_add_columns.html"
   ]
  },
  {
   "cell_type": "code",
   "execution_count": null,
   "metadata": {},
   "outputs": [],
   "source": [
    "# Separate the clean data into non-diabetics and diabetics\n",
    "non_diabetics_df = diabetes_df[diabetes_df[\"outcome\"]==0]\n",
    "diabetics_df = diabetes_df[diabetes_df[\"outcome\"]==1] \n",
    "# Be careful not to confuse between \"diabetics_df\" and \"diabetes_df\"!!!!!!!!"
   ]
  },
  {
   "cell_type": "markdown",
   "metadata": {},
   "source": [
    "## 8.2 Plotting 2 categories as 2 separate plots side-by-side"
   ]
  },
  {
   "cell_type": "code",
   "execution_count": null,
   "metadata": {
    "scrolled": false
   },
   "outputs": [],
   "source": [
    "# Plot the charts using Seaborn's countplot()\n",
    "\n",
    "# AS 2 separate plots side by side\n",
    "fig, ax = plt.subplots(1,2)\n",
    "ax1 = sns.countplot(x=\"blood_pressure_category\", data=non_diabetics_df, ax=ax[0]) # Non-diabetics dataset\n",
    "ax2 = sns.countplot(x=\"blood_pressure_category\", data=diabetics_df, ax=ax[1]) # Diabetics dataset\n",
    "\n",
    "# If the default labels are too small - adjust them to make them bigger\n",
    "#ax1.set_title(\"Healthy\") \n",
    "#ax1.set_xlabel(\"Blood Pressure\")\n",
    "#ax2.set_title(\"Diabetics\")\n",
    "#ax2.set_xlabel(\"Blood Pressure\")\n",
    "# Adjust the font sizes\n",
    "ax1.set_title(\"Healthy\", fontsize=25)\n",
    "ax1.set_xlabel(\"Blood Pressure\", fontsize=25)\n",
    "ax2.set_title(\"Diabetics\", fontsize=25)\n",
    "ax2.set_xlabel(\"Blood Pressure\", fontsize=25)\n",
    "ax1.tick_params(axis='both', which='both', labelsize=30) # x/y axes, minor/major ticks for ax1\n",
    "ax2.tick_params(axis='both', which='both', labelsize=30) # x/y axes, minor/major ticks for ax2\n",
    "\n",
    "\n",
    "# If you want to save the graph to disk\n",
    "plt.tight_layout() # automatically adjusts subplot to fit in the figure area\n",
    "plt.savefig('blood_pressure_category-side-by-side.png', dpi=300) # dpi=300 is print quality"
   ]
  },
  {
   "cell_type": "markdown",
   "metadata": {},
   "source": [
    "## 8.3 Plotting 2 categories as a single plot"
   ]
  },
  {
   "cell_type": "code",
   "execution_count": null,
   "metadata": {
    "scrolled": false
   },
   "outputs": [],
   "source": [
    "# Plot the charts using Seaborn's countplot()\n",
    "\n",
    "# As a single plot with wo count charts\n",
    "sns.countplot(x='blood_pressure_category', \n",
    "              data=diabetes_df, # Whole dataset (non-diabetics + diabetics)\n",
    "              hue='outcome') # grouped by outcome\n",
    "\n",
    "# If the default labels are too small - adjust them to make them bigger\n",
    "#plt.title('Blood Pressure - Healthy vs Diabetics')\n",
    "#plt.xlabel(\"Blood Pressure\") # Change the xlabel - \"blood_pressure_category\" not user friendly\n",
    "#plt.ylabel(\"Count\")\n",
    "# Adjust the font sizes\n",
    "plt.title('Blood Pressure - Healthy vs Diabetics', fontsize=30)\n",
    "plt.xlabel(\"Blood Pressure\", fontsize=30)\n",
    "plt.ylabel(\"Count\", fontsize=30)\n",
    "plt.tick_params(axis='both', which='both', labelsize=20) # x/y axes, minor/major ticks for plt\n",
    "\n",
    "# If you want to save the graph to disk\n",
    "plt.tight_layout() # automatically adjusts subplot to fit in the figure area\n",
    "plt.savefig('blood_pressure_category-single.png', dpi=300) # dpi=300 is print quality"
   ]
  },
  {
   "cell_type": "markdown",
   "metadata": {},
   "source": [
    "# 9 Univariate data visualisation"
   ]
  },
  {
   "cell_type": "markdown",
   "metadata": {},
   "source": [
    "## 9.1 An example of univariate data visualisation"
   ]
  },
  {
   "cell_type": "code",
   "execution_count": null,
   "metadata": {},
   "outputs": [],
   "source": [
    "# This is a quick example of plotting the distribution of a continuous variable (age) as a histogram.\n",
    "# We have used the distplot before\n",
    "# So this a a barebones example \n",
    "# You will need to customize the plot for a more decent appearence if you want to include it in a management report\n",
    "\n",
    "### distplot() is deprecated, it will still work - use histplot() ###\n",
    "#sns.distplot(diabetics_df['age'], color=\"green\")\n",
    "\n",
    "sns.histplot(data=diabetics_df, x=\"age\", color=\"green\", kde=True)\n",
    "\n",
    "# If you want to save the graph to disk\n",
    "plt.tight_layout() # automatically adjusts subplot to fit in the figure area\n",
    "plt.savefig('age-histogram.png', dpi=300) # dpi=300 is print quality"
   ]
  },
  {
   "cell_type": "markdown",
   "metadata": {},
   "source": [
    "# 10 Bivariate data visualisation"
   ]
  },
  {
   "cell_type": "markdown",
   "metadata": {},
   "source": [
    "## 10.1 An example of  bivariate data visualisation"
   ]
  },
  {
   "cell_type": "code",
   "execution_count": null,
   "metadata": {
    "scrolled": false
   },
   "outputs": [],
   "source": [
    "# Regression plot\n",
    "# Ref: https://seaborn.pydata.org/generated/seaborn.regplot.html\n",
    "\n",
    "sns.regplot(x=\"age\", y=\"num_pregnancies\", data=diabetes_df, \n",
    "            scatter_kws={\"color\": \"green\"}, line_kws={\"color\": \"red\"})\n",
    "\n",
    "plt.title('Pregnancies by age', fontsize = 30)\n",
    "plt.xlabel(\"Age\", fontsize=30)\n",
    "plt.ylabel(\"Number of pregnancies\", fontsize=30)\n",
    "plt.tick_params(axis='both', which='both', labelsize=25) # x/y axes, minor/major ticks for plt\n",
    "\n",
    "# If you want to save the graph to disk\n",
    "plt.tight_layout() # automatically adjusts subplot to fit in the figure area\n",
    "plt.savefig('scatterplot-age-pregnancies.png', dpi=300) # dpi=300 is print quality"
   ]
  }
 ],
 "metadata": {
  "anaconda-cloud": {},
  "kernelspec": {
   "display_name": "Python 3",
   "language": "python",
   "name": "python3"
  },
  "language_info": {
   "codemirror_mode": {
    "name": "ipython",
    "version": 3
   },
   "file_extension": ".py",
   "mimetype": "text/x-python",
   "name": "python",
   "nbconvert_exporter": "python",
   "pygments_lexer": "ipython3",
   "version": "3.8.5"
  }
 },
 "nbformat": 4,
 "nbformat_minor": 2
}

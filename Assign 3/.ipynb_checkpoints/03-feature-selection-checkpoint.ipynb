{
 "cells": [
  {
   "cell_type": "markdown",
   "metadata": {},
   "source": [
    "# ISYS2407 Information Systems Solutions & Design\n",
    "\n",
    "# Feature Selection\n",
    "\n",
    "###### © France and Christopher Cheong 2020"
   ]
  },
  {
   "cell_type": "markdown",
   "metadata": {},
   "source": [
    "# 1 Import libraries"
   ]
  },
  {
   "cell_type": "code",
   "execution_count": null,
   "metadata": {},
   "outputs": [],
   "source": [
    "# Library for pickling\n",
    "import joblib\n",
    "\n",
    "# Also need pandas and nympy for some tasks\n",
    "import pandas as pd\n",
    "import numpy as np\n",
    "\n",
    "# Library for splitting the data into train and test sets\n",
    "from sklearn.model_selection import train_test_split \n",
    "\n",
    "# Libraries to select k best features\n",
    "from sklearn.feature_selection import SelectKBest\n",
    "from sklearn.feature_selection import chi2"
   ]
  },
  {
   "cell_type": "markdown",
   "metadata": {},
   "source": [
    "# 2 Load the cleaned data set\n",
    "\n",
    "#### Pickled file must exist in your folder"
   ]
  },
  {
   "cell_type": "code",
   "execution_count": null,
   "metadata": {},
   "outputs": [],
   "source": [
    "diabetes_df = joblib.load('diabetes-cleaned.pkl')   "
   ]
  },
  {
   "cell_type": "code",
   "execution_count": null,
   "metadata": {},
   "outputs": [],
   "source": [
    "# Check\n",
    "diabetes_df.head()"
   ]
  },
  {
   "cell_type": "code",
   "execution_count": null,
   "metadata": {},
   "outputs": [],
   "source": [
    "# Check\n",
    "print(diabetes_df.shape)\n",
    "print(diabetes_df.columns)"
   ]
  },
  {
   "cell_type": "markdown",
   "metadata": {},
   "source": [
    "# 3 Split the data into training and testing set"
   ]
  },
  {
   "cell_type": "code",
   "execution_count": null,
   "metadata": {},
   "outputs": [],
   "source": [
    "# Store the features in variable X (uppercase as there are multiple features)\n",
    "# Features are variables that affect the target/label\n",
    "# So, it's all the columns excluding the target column\n",
    "feature_cols = ['num_pregnancies', \n",
    "                'glucose', \n",
    "                'blood_pressure', \n",
    "                'skin_thickness',\n",
    "                'insulin', \n",
    "                'bmi', \n",
    "                'pedigree', \n",
    "                'age'\n",
    "               ]\n",
    "\n",
    "X = diabetes_df[feature_cols]\n",
    "#print('X:\\n', X)\n",
    "\n",
    "# Store the labels/target in variable y (lower case as its a single value)\n",
    "y = diabetes_df['outcome']\n",
    "#print('y:\\n', y)\n",
    "\n",
    "# Split into train/test set\n",
    "X_train, X_test, y_train, y_test = train_test_split(X, \n",
    "                                                    y, \n",
    "                                                    test_size=0.2, # keep 20% for testing\n",
    "                                                    random_state=2 # pass an int for reproducible rtesult\n",
    "                                                    )"
   ]
  },
  {
   "cell_type": "markdown",
   "metadata": {},
   "source": [
    "# 4 Feature selection - trial-and-error process\n",
    "\n",
    "#### Must be done after the data is split into training and testing sets and before scaling and on the training set only"
   ]
  },
  {
   "cell_type": "code",
   "execution_count": null,
   "metadata": {},
   "outputs": [],
   "source": [
    "# (614, 8) ==> 9 features\n",
    "X_train.shape"
   ]
  },
  {
   "cell_type": "markdown",
   "metadata": {},
   "source": [
    "## 4.1 Attempt 1"
   ]
  },
  {
   "cell_type": "code",
   "execution_count": null,
   "metadata": {
    "scrolled": false
   },
   "outputs": [],
   "source": [
    "# This is a trial and error process\n",
    "# There are 8 features in this data set\n",
    "# First let's try k=7\n",
    "X_selected = SelectKBest(chi2, k=7).fit_transform(X_train, y_train)\n",
    "\n",
    "# Print the type and shape of the selected features\n",
    "print(type(X_selected))\n",
    "print(X_selected.shape)\n",
    "\n",
    "# Print the first 5 rows of the selected features\n",
    "#np.set_printoptions(suppress=True) # Suppress scientific notation when printing\n",
    "print(X_selected[:5])\n",
    "\n",
    "# Print the first 5 rows of all the features in the dataset\n",
    "X_train.head()"
   ]
  },
  {
   "cell_type": "markdown",
   "metadata": {},
   "source": [
    "## 4.2 Attempt 2"
   ]
  },
  {
   "cell_type": "code",
   "execution_count": null,
   "metadata": {},
   "outputs": [],
   "source": [
    "# Try k=6\n",
    "X_selected = SelectKBest(chi2, k=6).fit_transform(X_train, y_train)\n",
    "\n",
    "# Print the type and shape of the selected features\n",
    "print(type(X_selected))\n",
    "print(X_selected.shape)\n",
    "\n",
    "# Print the first 5 rows of the selected features\n",
    "print(X_selected[:5])\n",
    "\n",
    "# Print the first 5 rows of all the features in the dataset\n",
    "X_train.head()"
   ]
  },
  {
   "cell_type": "markdown",
   "metadata": {},
   "source": [
    "## 4.3 Attempt 3"
   ]
  },
  {
   "cell_type": "code",
   "execution_count": null,
   "metadata": {},
   "outputs": [],
   "source": [
    "# Try k=5\n",
    "X_selected = SelectKBest(chi2, k=5).fit_transform(X_train, y_train)\n",
    "\n",
    "# Print the type and shape of the selected features\n",
    "print(type(X_selected))\n",
    "print(X_selected.shape)\n",
    "\n",
    "# Print the first 5 rows of the selected features\n",
    "print(X_selected[:5])\n",
    "\n",
    "# Print the first 5 rows of all the features in the dataset\n",
    "X_train.head()"
   ]
  },
  {
   "cell_type": "markdown",
   "metadata": {},
   "source": [
    "## 4.4 Attempt 4"
   ]
  },
  {
   "cell_type": "code",
   "execution_count": null,
   "metadata": {},
   "outputs": [],
   "source": [
    "# Try k=4\n",
    "X_selected = SelectKBest(chi2, k=4).fit_transform(X_train, y_train)\n",
    "\n",
    "# Print the type and shape of the selected features\n",
    "print(type(X_selected))\n",
    "print(X_selected.shape)\n",
    "\n",
    "# Print the first 5 rows of the selected features\n",
    "print(X_selected[:5])\n",
    "\n",
    "# Print the first 5 rows of all the features in the dataset\n",
    "X_train.head()"
   ]
  },
  {
   "cell_type": "markdown",
   "metadata": {},
   "source": [
    "#### 4.1 What are the best features for building predictive models?"
   ]
  },
  {
   "cell_type": "markdown",
   "metadata": {},
   "source": [
    "From the analysis performed, it seems that the best features are: glucose, skin_thickness, bmi, age.\n",
    "    \n",
    "However, when performing the modelling part, you may experiment with models built using both the full set of features as well as the best features.    "
   ]
  },
  {
   "cell_type": "code",
   "execution_count": null,
   "metadata": {},
   "outputs": [],
   "source": []
  }
 ],
 "metadata": {
  "anaconda-cloud": {},
  "kernelspec": {
   "display_name": "Python 3",
   "language": "python",
   "name": "python3"
  },
  "language_info": {
   "codemirror_mode": {
    "name": "ipython",
    "version": 3
   },
   "file_extension": ".py",
   "mimetype": "text/x-python",
   "name": "python",
   "nbconvert_exporter": "python",
   "pygments_lexer": "ipython3",
   "version": "3.8.5"
  }
 },
 "nbformat": 4,
 "nbformat_minor": 2
}
